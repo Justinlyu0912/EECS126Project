{
 "cells": [
  {
   "cell_type": "code",
   "execution_count": 18,
   "metadata": {},
   "outputs": [],
   "source": [
    "import time\n",
    "import random\n",
    "import numpy as np\n",
    "CAR_RATE = 3 # velocity of the car\n",
    "TIME_CONST = 10000 #zoom in the time "
   ]
  },
  {
   "cell_type": "code",
   "execution_count": 19,
   "metadata": {},
   "outputs": [],
   "source": [
    "class road:\n",
    "    def __init__(self, numOfCell, introRate, remvRate, index):\n",
    "        #int numOfCell, int introRate, int remvRate, int index\n",
    "        self.__introRate = introRate\n",
    "        self.__remvRate = remvRate\n",
    "        self.__index = index\n",
    "        self.allCars = [] #cars in this road\n",
    "        self.numOfCell = numOfCell\n",
    "        self.cell = [0]*numOfCell #cells in this road\n",
    "        self.passCar = 0 # number of the passing cars\n",
    "        self.conflict = 0\n",
    "    def introCar(self,interval):\n",
    "        # introduce a new car to this road\n",
    "        if ((random.random() < self.__introRate*interval)&(self.cell[0] == 0)):\n",
    "            #print(\"new car!!!\")\n",
    "            self.cell[0] = 1\n",
    "            newCar = car(0, CAR_RATE, 1, self.__index)\n",
    "            self.allCars.insert(0,newCar)\n",
    "            \n",
    "    def remvCar(self, interval):\n",
    "        # remove the car in the last cell of this road\n",
    "        if ((random.random() < self.__remvRate*interval)&(self.cell[-1] == 1)):\n",
    "            #print(\"remove car!!!\")\n",
    "            self.cell[-1] = 0\n",
    "            self.allCars.pop()\n",
    "            self.passCar += 1\n",
    "    def showCar(self):\n",
    "        for i in self.cell:\n",
    "            if i == 0:\n",
    "                print(\" | \"+\" \",end=\"\")\n",
    "            else:\n",
    "                print(\" | \"+\"*\",end=\"\")\n",
    "        print(\" |\\n\")\n",
    "        "
   ]
  },
  {
   "cell_type": "code",
   "execution_count": 20,
   "metadata": {},
   "outputs": [],
   "source": [
    "class car:\n",
    "    def __init__(self, position, expClockRate, prob, index):\n",
    "        #int position, int expClockRate, float prob, int index (which road)\n",
    "        self.__position = position\n",
    "        self.__expClockRate = expClockRate\n",
    "        self.__prob = prob\n",
    "        self.__road = allRoads[index]\n",
    "    def moveForward(self, interval):\n",
    "        if (random.random() < self.__expClockRate*interval) \\\n",
    "        &(random.random() < self.__prob) \\\n",
    "        &(self.__position < self.__road.numOfCell-1):\n",
    "            # expo & not broken & in the road\n",
    "            if (self.__road.cell[self.__position+1] == 0): # next cell is empty\n",
    "                self.__road.cell[self.__position] = 0 \n",
    "                self.__position += 1\n",
    "                self.__road.cell[self.__position] = 1 # move forward\n",
    "            else:\n",
    "                return \"conflict\"\n",
    "        return \"move\""
   ]
  },
  {
   "cell_type": "code",
   "execution_count": 21,
   "metadata": {},
   "outputs": [],
   "source": [
    "allRoads = []\n",
    "intervals = []\n",
    "ourFirstRoad = road(10, 2, 2,len(allRoads))\n",
    "allRoads.append(ourFirstRoad)\n",
    "startTime = time.time()\n",
    "lastTime = startTime\n",
    "Stop = False\n",
    "while not Stop:\n",
    "    #print(ourFirstRoad.cell)\n",
    "    currentTime = time.time()\n",
    "    if currentTime -  startTime > 1:\n",
    "        Stop = True\n",
    "    interval = (currentTime - lastTime)*TIME_CONST # zoom in the time to simulate the actual case.\n",
    "    intervals.append(interval)\n",
    "    ourFirstRoad.introCar(interval)\n",
    "    ourFirstRoad.remvCar(interval)\n",
    "    for i in ourFirstRoad.allCars:\n",
    "        ret = i.moveForward(interval)\n",
    "        if ret ==\"conflict\":\n",
    "            ourFirstRoad.conflict += 1\n",
    "    lastTime = currentTime"
   ]
  },
  {
   "cell_type": "code",
   "execution_count": 22,
   "metadata": {},
   "outputs": [
    {
     "name": "stdout",
     "output_type": "stream",
     "text": [
      "4\n"
     ]
    }
   ],
   "source": [
    "print(len(ourFirstRoad.allCars))"
   ]
  },
  {
   "cell_type": "code",
   "execution_count": 23,
   "metadata": {},
   "outputs": [
    {
     "name": "stdout",
     "output_type": "stream",
     "text": [
      "8689\n"
     ]
    }
   ],
   "source": [
    "print(ourFirstRoad.passCar)"
   ]
  },
  {
   "cell_type": "code",
   "execution_count": 24,
   "metadata": {},
   "outputs": [
    {
     "name": "stdout",
     "output_type": "stream",
     "text": [
      "59901\n"
     ]
    }
   ],
   "source": [
    "print(ourFirstRoad.conflict)"
   ]
  },
  {
   "cell_type": "code",
   "execution_count": 25,
   "metadata": {
    "scrolled": true
   },
   "outputs": [
    {
     "name": "stdout",
     "output_type": "stream",
     "text": [
      " |   |   |   | * |   | * |   | * |   | * |\n",
      "\n"
     ]
    }
   ],
   "source": [
    "ourFirstRoad.showCar()"
   ]
  },
  {
   "cell_type": "code",
   "execution_count": null,
   "metadata": {},
   "outputs": [],
   "source": []
  }
 ],
 "metadata": {
  "kernelspec": {
   "display_name": "Python 3",
   "language": "python",
   "name": "python3"
  },
  "language_info": {
   "codemirror_mode": {
    "name": "ipython",
    "version": 3
   },
   "file_extension": ".py",
   "mimetype": "text/x-python",
   "name": "python",
   "nbconvert_exporter": "python",
   "pygments_lexer": "ipython3",
   "version": "3.6.8"
  }
 },
 "nbformat": 4,
 "nbformat_minor": 2
}
