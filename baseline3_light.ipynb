{
 "cells": [
  {
   "cell_type": "code",
   "execution_count": 1,
   "metadata": {},
   "outputs": [],
   "source": [
    "import time\n",
    "import random\n",
    "import numpy as np\n",
    "import matplotlib.pyplot as plt\n",
    "from mpl_toolkits.mplot3d import Axes3D\n",
    "CAR_RATE = 3 # velocity of the car\n",
    "TIME_CONST = 10000 #zoom in the time\n",
    "RESOLUTION = 0.1"
   ]
  },
  {
   "cell_type": "code",
   "execution_count": 2,
   "metadata": {},
   "outputs": [],
   "source": [
    "class Road:\n",
    "    def __init__(self, city, numOfCell=10, introRate=2, remvRate=2, carRate = 2, direction = (0,1), startPos = (0,0),interval =0.001,totalTime = 1000,name=''):\n",
    "        #int numOfCell, int introRate, int remvRate, int index\n",
    "        self.__introRate = introRate\n",
    "        self.__remvRate = remvRate\n",
    "        self.carRate = carRate\n",
    "        self.allCars = [] #cars in this road\n",
    "        self.numOfCell = numOfCell\n",
    "        self.passCar = 0 # number of the passing cars\n",
    "        self.conflict = 0\n",
    "        self.direction = direction\n",
    "        self.startPos = startPos\n",
    "        self.endPos = (startPos[0]+self.direction[0]*(self.numOfCell-1), startPos[1]+self.direction[1]*(self.numOfCell-1))\n",
    "        #self.cell = {}  #cells in this road\n",
    "        self.city = city\n",
    "        self.time_sum_car = 0\n",
    "        self.density = 0\n",
    "        self.J = 0\n",
    "        self.interval = interval\n",
    "        self.totalTime = totalTime\n",
    "        self.name = name\n",
    "        for i in range(self.numOfCell):\n",
    "            self.city.map[(self.startPos[0]+self.direction[0]*i, self.startPos[1]+self.direction[1]*i)] = 1\n",
    "        \n",
    "    def introCar(self):\n",
    "        # introduce a new car to this road\n",
    "        if ((random.random() < self.__introRate*self.interval) &(self.city.map[self.startPos] == 1)):\n",
    "            self.city.map[self.startPos] = 2\n",
    "            newCar = Car(self, interval = self.interval,expClockRate= self.carRate)\n",
    "            self.allCars.insert(0, newCar)\n",
    "            \n",
    "    def remvCar(self):\n",
    "        # remove the car in the last cell of this road\n",
    "        if ((random.random() < self.__remvRate*self.interval)&(self.city.map[self.endPos] == 2)):\n",
    "            self.city.map[self.endPos] = 1\n",
    "            self.allCars.pop()\n",
    "            self.passCar += 1\n",
    "            \n",
    "    def showCar(self):\n",
    "        for i in range(self.numOfCell):\n",
    "            if self.city.map[(self.startPos[0]+self.direction[0]*i, self.startPos[1]+self.direction[1]*i)] == 1:\n",
    "                print(\" | \"+\" \",end=\"\")\n",
    "            else:\n",
    "                print(\" | \"+\"*\",end=\"\")\n",
    "        print(\" |\\n\")\n",
    "    def calculateRate(self):\n",
    "        self.density = self.time_sum_car/(self.totalTime/self.interval*self.numOfCell)\n",
    "        self.J = self.passCar / self.totalTime\n",
    "        \n",
    "\n",
    "        "
   ]
  },
  {
   "cell_type": "code",
   "execution_count": 3,
   "metadata": {},
   "outputs": [],
   "source": [
    "class Car:\n",
    "    def __init__(self, road, position=0, expClockRate=3, prob=0.5,interval =0.001):\n",
    "        #int position, int expClockRate, float prob, int index (which road)\n",
    "        self.__position = (road.startPos[0]+road.direction[0]*position, road.startPos[1]+road.direction[1]*position)\n",
    "        self.__expClockRate = expClockRate\n",
    "        self.__prob = prob\n",
    "        self.__road = road\n",
    "        self.interval = interval\n",
    "    def moveForward(self):\n",
    "        if (random.random() < self.__expClockRate*self.interval)&(random.random() < self.__prob):\n",
    "            # expo & not broken\n",
    "            if (self.__road.city.map[(self.__position[0]+self.__road.direction[0], self.__position[1]+self.__road.direction[1])] == 1): # next cell is empty\n",
    "                self.__road.city.map[self.__position] = 1\n",
    "                self.__position = (self.__position[0]+self.__road.direction[0], self.__position[1]+self.__road.direction[1])\n",
    "                self.__road.city.map[self.__position] = 2\n",
    "            else:\n",
    "                return \"conflict\"\n",
    "        return \"move\""
   ]
  },
  {
   "cell_type": "code",
   "execution_count": 91,
   "metadata": {},
   "outputs": [],
   "source": [
    "class City:\n",
    "    def __init__(self, l=100, w=100,totalTime = 1000,interval = 0.001,name='Berkeley'):\n",
    "        self.l = l\n",
    "        self.w = w\n",
    "        self.map = {(i,j):0 for i in range(self.l) for j in range(self.w)} \n",
    "        self.roads=[]\n",
    "        self.totalTime = totalTime\n",
    "        self.interval = interval\n",
    "        self.name = name\n",
    "        self.J = 0\n",
    "        self.density = 0\n",
    "        self.time_sum_car = 0\n",
    "        self.numOfCell = 0\n",
    "        self.passCar = 0\n",
    "    def showCity(self):\n",
    "        rx = []\n",
    "        ry = []\n",
    "        cx = []\n",
    "        cy = []\n",
    "        lx = []\n",
    "        ly = []\n",
    "        for i in self.map:\n",
    "            if self.map[i] != 0:\n",
    "                rx.append(i[0])\n",
    "                ry.append(i[1])\n",
    "            if self.map[i] == 2:\n",
    "                cx.append(i[0])\n",
    "                cy.append(i[1])\n",
    "            if self.map[i] == 3:\n",
    "                print(\"!!!!!!!!!!!!\")\n",
    "                lx.append(i[0])\n",
    "                ly.append(i[1])\n",
    "            \n",
    "        plt.plot(rx, ry, \"o\")\n",
    "        plt.plot(cx, cy, \"*\",\"g\")\n",
    "        plt.plot(lx, ly, \"s\",\"r\")\n",
    "        plt.show()\n",
    "    def createRoad(self,numOfCell=10, introRate=2, remvRate=2,carRate = 2, direction = (0,1), startPos = (0,0),name = ''):\n",
    "        newRoad = Road(self, numOfCell=numOfCell, introRate=introRate, remvRate=remvRate, direction = direction, \\\n",
    "                       startPos = startPos,interval = self.interval,totalTime = self.totalTime, name = name)\n",
    "        self.roads.append(newRoad)\n",
    "        self.numOfCell += newRoad.numOfCell\n",
    "    def introCar(self):\n",
    "        for road in self.roads:\n",
    "            road.introCar()\n",
    "            \n",
    "    def remvCar(self):\n",
    "        self.passCar = 0\n",
    "        for road in self.roads:\n",
    "            road.remvCar()\n",
    "            self.passCar += road.passCar\n",
    "    def moveCar(self):\n",
    "        for road in self.roads:\n",
    "            for car in road.allCars:\n",
    "                ret = car.moveForward()\n",
    "                if ret ==\"conflict\":\n",
    "                    road.conflict += 1\n",
    "    def Time_sum_car(self):\n",
    "        for road in self.roads:\n",
    "            road.time_sum_car += len(road.allCars)\n",
    "    def calculateRate(self):\n",
    "        for road in self.roads:\n",
    "            road.calculateRate()\n",
    "            self.time_sum_car += road.time_sum_car\n",
    "        self.density = self.time_sum_car/(self.totalTime/self.interval*self.numOfCell)\n",
    "        self.J = self.passCar / self.totalTime\n",
    "    def light(self, position):\n",
    "        if random.random < 0.5:\n",
    "            self.City.map[position] = 3\n",
    "        else:\n",
    "            self.City.map[position] = 1\n",
    "            \n",
    "    def crossRoadLight(self, position1, position2):\n",
    "        if random.random() < 0.5:\n",
    "            self.map[position1] = 3\n",
    "            self.map[position2] = 1\n",
    "        else:\n",
    "            self.map[position1] = 1\n",
    "            self.map[position2] = 3\n",
    "    def freshMap(self):\n",
    "        del(self.roads[:])\n",
    "        self.numOfCell = 0\n",
    "        self.roads=[]\n",
    "        self.map = {(i,j):0 for i in range(self.l) for j in range(self.w)} "
   ]
  },
  {
   "cell_type": "code",
   "execution_count": 53,
   "metadata": {},
   "outputs": [],
   "source": [
    "# startTime = 0\n",
    "# lastTime = startTime\n",
    "# Stop = False\")\n",
    "# currentTime = startTime - interval\n",
    "# while not Stop:\n",
    "#     currentTime = currentTime+interval\n",
    "#     if currentTime > TOTAL_TIME:\n",
    "#         Stop = True\n",
    "#     Berkeley.introCar()\n",
    "#     Berkeley.remvCar()\n",
    "#     Berkeley.moveCar()\n",
    "#     Berkeley.time_sum_car()\n",
    "# Berkeley.calculateRate()"
   ]
  },
  {
   "cell_type": "code",
   "execution_count": 6,
   "metadata": {},
   "outputs": [
    {
     "ename": "KeyboardInterrupt",
     "evalue": "",
     "output_type": "error",
     "traceback": [
      "\u001b[0;31m---------------------------------------------------------------------------\u001b[0m",
      "\u001b[0;31mKeyboardInterrupt\u001b[0m                         Traceback (most recent call last)",
      "\u001b[0;32m<ipython-input-6-ff67a7766391>\u001b[0m in \u001b[0;36m<module>\u001b[0;34m()\u001b[0m\n\u001b[1;32m     21\u001b[0m                 \u001b[0mStop\u001b[0m \u001b[0;34m=\u001b[0m \u001b[0;32mTrue\u001b[0m\u001b[0;34m\u001b[0m\u001b[0m\n\u001b[1;32m     22\u001b[0m             \u001b[0mSF\u001b[0m\u001b[0;34m.\u001b[0m\u001b[0mintroCar\u001b[0m\u001b[0;34m(\u001b[0m\u001b[0;34m)\u001b[0m\u001b[0;34m\u001b[0m\u001b[0m\n\u001b[0;32m---> 23\u001b[0;31m             \u001b[0mSF\u001b[0m\u001b[0;34m.\u001b[0m\u001b[0mremvCar\u001b[0m\u001b[0;34m(\u001b[0m\u001b[0;34m)\u001b[0m\u001b[0;34m\u001b[0m\u001b[0m\n\u001b[0m\u001b[1;32m     24\u001b[0m             \u001b[0mSF\u001b[0m\u001b[0;34m.\u001b[0m\u001b[0mmoveCar\u001b[0m\u001b[0;34m(\u001b[0m\u001b[0;34m)\u001b[0m\u001b[0;34m\u001b[0m\u001b[0m\n\u001b[1;32m     25\u001b[0m             \u001b[0mSF\u001b[0m\u001b[0;34m.\u001b[0m\u001b[0mTime_sum_car\u001b[0m\u001b[0;34m(\u001b[0m\u001b[0;34m)\u001b[0m\u001b[0;34m\u001b[0m\u001b[0m\n",
      "\u001b[0;32m<ipython-input-4-5b7f973669ca>\u001b[0m in \u001b[0;36mremvCar\u001b[0;34m(self)\u001b[0m\n\u001b[1;32m     39\u001b[0m         \u001b[0mself\u001b[0m\u001b[0;34m.\u001b[0m\u001b[0mpassCar\u001b[0m \u001b[0;34m=\u001b[0m \u001b[0;36m0\u001b[0m\u001b[0;34m\u001b[0m\u001b[0m\n\u001b[1;32m     40\u001b[0m         \u001b[0;32mfor\u001b[0m \u001b[0mroad\u001b[0m \u001b[0;32min\u001b[0m \u001b[0mself\u001b[0m\u001b[0;34m.\u001b[0m\u001b[0mroads\u001b[0m\u001b[0;34m:\u001b[0m\u001b[0;34m\u001b[0m\u001b[0m\n\u001b[0;32m---> 41\u001b[0;31m             \u001b[0mroad\u001b[0m\u001b[0;34m.\u001b[0m\u001b[0mremvCar\u001b[0m\u001b[0;34m(\u001b[0m\u001b[0;34m)\u001b[0m\u001b[0;34m\u001b[0m\u001b[0m\n\u001b[0m\u001b[1;32m     42\u001b[0m             \u001b[0mself\u001b[0m\u001b[0;34m.\u001b[0m\u001b[0mpassCar\u001b[0m \u001b[0;34m+=\u001b[0m \u001b[0mroad\u001b[0m\u001b[0;34m.\u001b[0m\u001b[0mpassCar\u001b[0m\u001b[0;34m\u001b[0m\u001b[0m\n\u001b[1;32m     43\u001b[0m     \u001b[0;32mdef\u001b[0m \u001b[0mmoveCar\u001b[0m\u001b[0;34m(\u001b[0m\u001b[0mself\u001b[0m\u001b[0;34m)\u001b[0m\u001b[0;34m:\u001b[0m\u001b[0;34m\u001b[0m\u001b[0m\n",
      "\u001b[0;32m<ipython-input-2-b621652f843f>\u001b[0m in \u001b[0;36mremvCar\u001b[0;34m(self)\u001b[0m\n\u001b[1;32m     32\u001b[0m     \u001b[0;32mdef\u001b[0m \u001b[0mremvCar\u001b[0m\u001b[0;34m(\u001b[0m\u001b[0mself\u001b[0m\u001b[0;34m)\u001b[0m\u001b[0;34m:\u001b[0m\u001b[0;34m\u001b[0m\u001b[0m\n\u001b[1;32m     33\u001b[0m         \u001b[0;31m# remove the car in the last cell of this road\u001b[0m\u001b[0;34m\u001b[0m\u001b[0;34m\u001b[0m\u001b[0m\n\u001b[0;32m---> 34\u001b[0;31m         \u001b[0;32mif\u001b[0m \u001b[0;34m(\u001b[0m\u001b[0;34m(\u001b[0m\u001b[0mrandom\u001b[0m\u001b[0;34m.\u001b[0m\u001b[0mrandom\u001b[0m\u001b[0;34m(\u001b[0m\u001b[0;34m)\u001b[0m \u001b[0;34m<\u001b[0m \u001b[0mself\u001b[0m\u001b[0;34m.\u001b[0m\u001b[0m__remvRate\u001b[0m\u001b[0;34m*\u001b[0m\u001b[0mself\u001b[0m\u001b[0;34m.\u001b[0m\u001b[0minterval\u001b[0m\u001b[0;34m)\u001b[0m\u001b[0;34m&\u001b[0m\u001b[0;34m(\u001b[0m\u001b[0mself\u001b[0m\u001b[0;34m.\u001b[0m\u001b[0mcity\u001b[0m\u001b[0;34m.\u001b[0m\u001b[0mmap\u001b[0m\u001b[0;34m[\u001b[0m\u001b[0mself\u001b[0m\u001b[0;34m.\u001b[0m\u001b[0mendPos\u001b[0m\u001b[0;34m]\u001b[0m \u001b[0;34m==\u001b[0m \u001b[0;36m2\u001b[0m\u001b[0;34m)\u001b[0m\u001b[0;34m)\u001b[0m\u001b[0;34m:\u001b[0m\u001b[0;34m\u001b[0m\u001b[0m\n\u001b[0m\u001b[1;32m     35\u001b[0m             \u001b[0mself\u001b[0m\u001b[0;34m.\u001b[0m\u001b[0mcity\u001b[0m\u001b[0;34m.\u001b[0m\u001b[0mmap\u001b[0m\u001b[0;34m[\u001b[0m\u001b[0mself\u001b[0m\u001b[0;34m.\u001b[0m\u001b[0mendPos\u001b[0m\u001b[0;34m]\u001b[0m \u001b[0;34m=\u001b[0m \u001b[0;36m1\u001b[0m\u001b[0;34m\u001b[0m\u001b[0m\n\u001b[1;32m     36\u001b[0m             \u001b[0mself\u001b[0m\u001b[0;34m.\u001b[0m\u001b[0mallCars\u001b[0m\u001b[0;34m.\u001b[0m\u001b[0mpop\u001b[0m\u001b[0;34m(\u001b[0m\u001b[0;34m)\u001b[0m\u001b[0;34m\u001b[0m\u001b[0m\n",
      "\u001b[0;31mKeyboardInterrupt\u001b[0m: "
     ]
    },
    {
     "data": {
      "text/plain": [
       "<matplotlib.figure.Figure at 0x1168aa208>"
      ]
     },
     "metadata": {},
     "output_type": "display_data"
    }
   ],
   "source": [
    "fig = plt.figure()\n",
    "TOTAL_TIME = 1000\n",
    "interval = 0.001\n",
    "SF = City(totalTime=TOTAL_TIME, interval= interval, name = 'SF')\n",
    "x = np.arange(0, 2, 0.2)\n",
    "y = np.arange(0, 2, 0.2)\n",
    "j = []\n",
    "d = []\n",
    "for ir in x:\n",
    "    jj = []\n",
    "    dd = []\n",
    "    for rr in y:\n",
    "        SF.freshMap()\n",
    "        SF.createRoad(introRate=ir, remvRate=rr)\n",
    "        startTime = 0\n",
    "        Stop = False\n",
    "        currentTime = startTime - interval\n",
    "        while not Stop:\n",
    "            currentTime = currentTime+interval\n",
    "            if currentTime > TOTAL_TIME:\n",
    "                Stop = True\n",
    "            SF.crossRoadLight(self,)\n",
    "            SF.introCar()\n",
    "            SF.remvCar()\n",
    "            SF.moveCar()\n",
    "            SF.Time_sum_car()\n",
    "        SF.calculateRate()\n",
    "        jj.append(SF.roads[0].J)\n",
    "        dd.append(SF.roads[0].density)\n",
    "    j.append(jj)\n",
    "    d.append(dd)"
   ]
  },
  {
   "cell_type": "code",
   "execution_count": null,
   "metadata": {},
   "outputs": [],
   "source": [
    "array_z = np.array(j)\n",
    "array_x,array_y = np.meshgrid(x,y)\n",
    "surf = plt.contourf(array_x,array_y,array_z)\n",
    "plt.xlabel('remvRate')\n",
    "plt.ylabel('introRate')\n",
    "plt.title(\"J\")\n",
    "plt.colorbar()\n",
    "plt.savefig('1roadJ.png')\n",
    "plt.show\n",
    "\n"
   ]
  },
  {
   "cell_type": "code",
   "execution_count": 69,
   "metadata": {},
   "outputs": [
    {
     "data": {
      "text/plain": [
       "<function matplotlib.pyplot.show>"
      ]
     },
     "execution_count": 69,
     "metadata": {},
     "output_type": "execute_result"
    },
    {
     "data": {
      "image/png": "[encoded data removed]",
      "text/plain": [
       "<Figure size 432x288 with 2 Axes>"
      ]
     },
     "metadata": {},
     "output_type": "display_data"
    }
   ],
   "source": [
    "array_z = np.array(d)\n",
    "array_x,array_y = np.meshgrid(y,x)\n",
    "surf = plt.contourf(array_x,array_y,array_z)\n",
    "plt.xlabel('remvRate')\n",
    "plt.ylabel('introRate')\n",
    "plt.title(\"D\")\n",
    "plt.colorbar()\n",
    "plt.savefig('1roadD.png')\n",
    "plt.show"
   ]
  },
  {
   "cell_type": "code",
   "execution_count": 92,
   "metadata": {},
   "outputs": [
    {
     "name": "stdout",
     "output_type": "stream",
     "text": [
      "                                                                                                    \n",
      "||||||||||||||||||||||||||||||||||||||||||||||||||||||||||||||||||||||"
     ]
    },
    {
     "ename": "KeyboardInterrupt",
     "evalue": "",
     "output_type": "error",
     "traceback": [
      "\u001b[0;31m---------------------------------------------------------------------------\u001b[0m",
      "\u001b[0;31mKeyboardInterrupt\u001b[0m                         Traceback (most recent call last)",
      "\u001b[0;32m<ipython-input-92-e6f12c45e2b8>\u001b[0m in \u001b[0;36m<module>\u001b[0;34m()\u001b[0m\n\u001b[1;32m     27\u001b[0m             \u001b[0mSF\u001b[0m\u001b[0;34m.\u001b[0m\u001b[0mintroCar\u001b[0m\u001b[0;34m(\u001b[0m\u001b[0;34m)\u001b[0m\u001b[0;34m\u001b[0m\u001b[0m\n\u001b[1;32m     28\u001b[0m             \u001b[0mSF\u001b[0m\u001b[0;34m.\u001b[0m\u001b[0mremvCar\u001b[0m\u001b[0;34m(\u001b[0m\u001b[0;34m)\u001b[0m\u001b[0;34m\u001b[0m\u001b[0m\n\u001b[0;32m---> 29\u001b[0;31m             \u001b[0mSF\u001b[0m\u001b[0;34m.\u001b[0m\u001b[0mmoveCar\u001b[0m\u001b[0;34m(\u001b[0m\u001b[0;34m)\u001b[0m\u001b[0;34m\u001b[0m\u001b[0m\n\u001b[0m\u001b[1;32m     30\u001b[0m             \u001b[0mSF\u001b[0m\u001b[0;34m.\u001b[0m\u001b[0mTime_sum_car\u001b[0m\u001b[0;34m(\u001b[0m\u001b[0;34m)\u001b[0m\u001b[0;34m\u001b[0m\u001b[0m\n\u001b[1;32m     31\u001b[0m         \u001b[0mSF\u001b[0m\u001b[0;34m.\u001b[0m\u001b[0mcalculateRate\u001b[0m\u001b[0;34m(\u001b[0m\u001b[0;34m)\u001b[0m\u001b[0;34m\u001b[0m\u001b[0m\n",
      "\u001b[0;32m<ipython-input-91-1206645fc366>\u001b[0m in \u001b[0;36mmoveCar\u001b[0;34m(self)\u001b[0m\n\u001b[1;32m     52\u001b[0m         \u001b[0;32mfor\u001b[0m \u001b[0mroad\u001b[0m \u001b[0;32min\u001b[0m \u001b[0mself\u001b[0m\u001b[0;34m.\u001b[0m\u001b[0mroads\u001b[0m\u001b[0;34m:\u001b[0m\u001b[0;34m\u001b[0m\u001b[0m\n\u001b[1;32m     53\u001b[0m             \u001b[0;32mfor\u001b[0m \u001b[0mcar\u001b[0m \u001b[0;32min\u001b[0m \u001b[0mroad\u001b[0m\u001b[0;34m.\u001b[0m\u001b[0mallCars\u001b[0m\u001b[0;34m:\u001b[0m\u001b[0;34m\u001b[0m\u001b[0m\n\u001b[0;32m---> 54\u001b[0;31m                 \u001b[0mret\u001b[0m \u001b[0;34m=\u001b[0m \u001b[0mcar\u001b[0m\u001b[0;34m.\u001b[0m\u001b[0mmoveForward\u001b[0m\u001b[0;34m(\u001b[0m\u001b[0;34m)\u001b[0m\u001b[0;34m\u001b[0m\u001b[0m\n\u001b[0m\u001b[1;32m     55\u001b[0m                 \u001b[0;32mif\u001b[0m \u001b[0mret\u001b[0m \u001b[0;34m==\u001b[0m\u001b[0;34m\"conflict\"\u001b[0m\u001b[0;34m:\u001b[0m\u001b[0;34m\u001b[0m\u001b[0m\n\u001b[1;32m     56\u001b[0m                     \u001b[0mroad\u001b[0m\u001b[0;34m.\u001b[0m\u001b[0mconflict\u001b[0m \u001b[0;34m+=\u001b[0m \u001b[0;36m1\u001b[0m\u001b[0;34m\u001b[0m\u001b[0m\n",
      "\u001b[0;32m<ipython-input-3-da53efe35747>\u001b[0m in \u001b[0;36mmoveForward\u001b[0;34m(self)\u001b[0m\n\u001b[1;32m      8\u001b[0m         \u001b[0mself\u001b[0m\u001b[0;34m.\u001b[0m\u001b[0minterval\u001b[0m \u001b[0;34m=\u001b[0m \u001b[0minterval\u001b[0m\u001b[0;34m\u001b[0m\u001b[0m\n\u001b[1;32m      9\u001b[0m     \u001b[0;32mdef\u001b[0m \u001b[0mmoveForward\u001b[0m\u001b[0;34m(\u001b[0m\u001b[0mself\u001b[0m\u001b[0;34m)\u001b[0m\u001b[0;34m:\u001b[0m\u001b[0;34m\u001b[0m\u001b[0m\n\u001b[0;32m---> 10\u001b[0;31m         \u001b[0;32mif\u001b[0m \u001b[0;34m(\u001b[0m\u001b[0mrandom\u001b[0m\u001b[0;34m.\u001b[0m\u001b[0mrandom\u001b[0m\u001b[0;34m(\u001b[0m\u001b[0;34m)\u001b[0m \u001b[0;34m<\u001b[0m \u001b[0mself\u001b[0m\u001b[0;34m.\u001b[0m\u001b[0m__expClockRate\u001b[0m\u001b[0;34m*\u001b[0m\u001b[0mself\u001b[0m\u001b[0;34m.\u001b[0m\u001b[0minterval\u001b[0m\u001b[0;34m)\u001b[0m\u001b[0;34m&\u001b[0m\u001b[0;34m(\u001b[0m\u001b[0mrandom\u001b[0m\u001b[0;34m.\u001b[0m\u001b[0mrandom\u001b[0m\u001b[0;34m(\u001b[0m\u001b[0;34m)\u001b[0m \u001b[0;34m<\u001b[0m \u001b[0mself\u001b[0m\u001b[0;34m.\u001b[0m\u001b[0m__prob\u001b[0m\u001b[0;34m)\u001b[0m\u001b[0;34m:\u001b[0m\u001b[0;34m\u001b[0m\u001b[0m\n\u001b[0m\u001b[1;32m     11\u001b[0m             \u001b[0;31m# expo & not broken\u001b[0m\u001b[0;34m\u001b[0m\u001b[0;34m\u001b[0m\u001b[0m\n\u001b[1;32m     12\u001b[0m             \u001b[0;32mif\u001b[0m \u001b[0;34m(\u001b[0m\u001b[0mself\u001b[0m\u001b[0;34m.\u001b[0m\u001b[0m__road\u001b[0m\u001b[0;34m.\u001b[0m\u001b[0mcity\u001b[0m\u001b[0;34m.\u001b[0m\u001b[0mmap\u001b[0m\u001b[0;34m[\u001b[0m\u001b[0;34m(\u001b[0m\u001b[0mself\u001b[0m\u001b[0;34m.\u001b[0m\u001b[0m__position\u001b[0m\u001b[0;34m[\u001b[0m\u001b[0;36m0\u001b[0m\u001b[0;34m]\u001b[0m\u001b[0;34m+\u001b[0m\u001b[0mself\u001b[0m\u001b[0;34m.\u001b[0m\u001b[0m__road\u001b[0m\u001b[0;34m.\u001b[0m\u001b[0mdirection\u001b[0m\u001b[0;34m[\u001b[0m\u001b[0;36m0\u001b[0m\u001b[0;34m]\u001b[0m\u001b[0;34m,\u001b[0m \u001b[0mself\u001b[0m\u001b[0;34m.\u001b[0m\u001b[0m__position\u001b[0m\u001b[0;34m[\u001b[0m\u001b[0;36m1\u001b[0m\u001b[0;34m]\u001b[0m\u001b[0;34m+\u001b[0m\u001b[0mself\u001b[0m\u001b[0;34m.\u001b[0m\u001b[0m__road\u001b[0m\u001b[0;34m.\u001b[0m\u001b[0mdirection\u001b[0m\u001b[0;34m[\u001b[0m\u001b[0;36m1\u001b[0m\u001b[0;34m]\u001b[0m\u001b[0;34m)\u001b[0m\u001b[0;34m]\u001b[0m \u001b[0;34m==\u001b[0m \u001b[0;36m1\u001b[0m\u001b[0;34m)\u001b[0m\u001b[0;34m:\u001b[0m \u001b[0;31m# next cell is empty\u001b[0m\u001b[0;34m\u001b[0m\u001b[0m\n",
      "\u001b[0;31mKeyboardInterrupt\u001b[0m: "
     ]
    },
    {
     "data": {
      "text/plain": [
       "<matplotlib.figure.Figure at 0x117a810f0>"
      ]
     },
     "metadata": {},
     "output_type": "display_data"
    }
   ],
   "source": [
    "fig = plt.figure()\n",
    "TOTAL_TIME = 1000\n",
    "interval = 0.001\n",
    "SF = City(totalTime=TOTAL_TIME, interval= interval, name = 'SF')\n",
    "x = np.arange(0, 2, 0.2)\n",
    "y = np.arange(0, 2, 0.2)\n",
    "j = []\n",
    "d = []\n",
    "print(\" \"*100)\n",
    "for ir in x:\n",
    "    jj = []\n",
    "    dd = []\n",
    "    #print(\"--\",ir,\"--\")\n",
    "    for rr in y:\n",
    "        #print(rr)\n",
    "        SF.freshMap()\n",
    "        SF.createRoad(introRate=ir, remvRate=rr, direction = (0,1), startPos = (5,0))\n",
    "        SF.createRoad(introRate=ir, remvRate=rr, direction = (1,0), startPos = (0,5))\n",
    "        startTime = 0\n",
    "        Stop = False\n",
    "        currentTime = startTime - interval\n",
    "        while not Stop:\n",
    "            currentTime = currentTime+interval\n",
    "            if currentTime > TOTAL_TIME:\n",
    "                Stop = True\n",
    "            SF.crossRoadLight((5,6), (6,5))\n",
    "            SF.introCar()\n",
    "            SF.remvCar()\n",
    "            SF.moveCar()\n",
    "            SF.Time_sum_car()\n",
    "        SF.calculateRate()\n",
    "        jj.append(SF.J)\n",
    "        dd.append(SF.density)\n",
    "        print(\"|\", end=\"\")\n",
    "    j.append(jj)\n",
    "    d.append(dd)"
   ]
  },
  {
   "cell_type": "code",
   "execution_count": null,
   "metadata": {},
   "outputs": [],
   "source": [
    "array_z = np.array(j)\n",
    "array_x,array_y = np.meshgrid(x,y)\n",
    "surf = plt.contourf(array_x,array_y,array_z)\n",
    "plt.xlabel('remvRate')\n",
    "plt.ylabel('introRate')\n",
    "plt.title(\"J\")\n",
    "plt.colorbar()\n",
    "plt.savefig('1roadJ.png')\n",
    "plt.show\n"
   ]
  },
  {
   "cell_type": "code",
   "execution_count": null,
   "metadata": {},
   "outputs": [],
   "source": [
    "SF.showCity()"
   ]
  },
  {
   "cell_type": "code",
   "execution_count": null,
   "metadata": {},
   "outputs": [],
   "source": []
  }
 ],
 "metadata": {
  "kernelspec": {
   "display_name": "Python 3",
   "language": "python",
   "name": "python3"
  },
  "language_info": {
   "codemirror_mode": {
    "name": "ipython",
    "version": 3
   },
   "file_extension": ".py",
   "mimetype": "text/x-python",
   "name": "python",
   "nbconvert_exporter": "python",
   "pygments_lexer": "ipython3",
   "version": "3.6.6"
  }
 },
 "nbformat": 4,
 "nbformat_minor": 2
}
