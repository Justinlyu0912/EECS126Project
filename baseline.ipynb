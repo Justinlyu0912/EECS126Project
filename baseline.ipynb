{
 "cells": [
  {
   "cell_type": "code",
   "execution_count": 192,
   "metadata": {},
   "outputs": [],
   "source": [
    "import time\n",
    "import random\n",
    "import numpy as np"
   ]
  },
  {
   "cell_type": "code",
   "execution_count": 261,
   "metadata": {},
   "outputs": [],
   "source": [
    "class road:\n",
    "    def __init__(self, numOfCell, introRate, remvRate, index):\n",
    "        self.__introRate = introRate\n",
    "        self.__remvRate = remvRate\n",
    "        self.__index = index\n",
    "        self.allCars = []\n",
    "        self.numOfCell = numOfCell\n",
    "        self.cell = [0]*numOfCell\n",
    "    def introCar(self,interval):\n",
    "        if ((random.random() < self.__introRate*interval)&(self.cell[0] == 0)):\n",
    "            #print(\"new car!!!\")\n",
    "            self.cell[0] = 1\n",
    "            newCar = car(0, 30000, 1, self.__index)\n",
    "            self.allCars.insert(0,newCar)\n",
    "    def remvCar(self, interval):\n",
    "        if ((random.random() < self.__remvRate*interval)&(self.cell[-1] == 1)):\n",
    "            #print(\"remove car!!!\")\n",
    "            self.cell[-1] = 0\n",
    "            self.allCars.pop()"
   ]
  },
  {
   "cell_type": "code",
   "execution_count": 262,
   "metadata": {},
   "outputs": [],
   "source": [
    "class car:\n",
    "    def __init__(self, position, expClockRate, prob, index):\n",
    "        self.__position = position\n",
    "        self.__expClockRate = expClockRate\n",
    "        self.__prob = prob\n",
    "        self.__road = allRoads[index]\n",
    "    def moveForward(self, interval):\n",
    "        if (random.random() < self.__expClockRate*interval)&(random.random() < self.__prob)&(self.__position < self.__road.numOfCell-1):\n",
    "            if (self.__road.cell[self.__position+1] == 0):\n",
    "                self.__road.cell[self.__position] = 0\n",
    "                self.__position += 1\n",
    "                self.__road.cell[self.__position] = 1"
   ]
  },
  {
   "cell_type": "code",
   "execution_count": 270,
   "metadata": {},
   "outputs": [],
   "source": [
    "allRoads = []\n",
    "intervals = []\n",
    "ourFirstRoad = road(10, 20000, 20000,len(allRoads))\n",
    "allRoads.append(ourFirstRoad)\n",
    "startTime = time.time()\n",
    "lastTime = startTime\n",
    "Stop = False\n",
    "while not Stop:\n",
    "    #print(ourFirstRoad.cell)\n",
    "    currentTime = time.time()\n",
    "    if currentTime -  startTime > 1:\n",
    "        Stop = True\n",
    "    interval = currentTime - lastTime\n",
    "    intervals.append(interval)\n",
    "    ourFirstRoad.introCar(interval)\n",
    "    ourFirstRoad.remvCar(interval)\n",
    "    for i in ourFirstRoad.allCars:\n",
    "        i.moveForward(interval)\n",
    "    lastTime = currentTime"
   ]
  },
  {
   "cell_type": "code",
   "execution_count": 269,
   "metadata": {},
   "outputs": [
    {
     "name": "stdout",
     "output_type": "stream",
     "text": [
      "6\n"
     ]
    }
   ],
   "source": [
    "print(len(ourFirstRoad.allCars))"
   ]
  },
  {
   "cell_type": "code",
   "execution_count": 265,
   "metadata": {},
   "outputs": [
    {
     "name": "stdout",
     "output_type": "stream",
     "text": [
      "<class '__main__.road'>\n"
     ]
    }
   ],
   "source": [
    "print(road)"
   ]
  },
  {
   "cell_type": "code",
   "execution_count": 266,
   "metadata": {},
   "outputs": [
    {
     "name": "stdout",
     "output_type": "stream",
     "text": [
      "3.6465879542619903e-06\n"
     ]
    }
   ],
   "source": [
    "print(np.average(intervals))"
   ]
  },
  {
   "cell_type": "code",
   "execution_count": null,
   "metadata": {},
   "outputs": [],
   "source": []
  },
  {
   "cell_type": "code",
   "execution_count": null,
   "metadata": {},
   "outputs": [],
   "source": []
  }
 ],
 "metadata": {
  "kernelspec": {
   "display_name": "Python 3",
   "language": "python",
   "name": "python3"
  },
  "language_info": {
   "codemirror_mode": {
    "name": "ipython",
    "version": 3
   },
   "file_extension": ".py",
   "mimetype": "text/x-python",
   "name": "python",
   "nbconvert_exporter": "python",
   "pygments_lexer": "ipython3",
   "version": "3.6.6"
  }
 },
 "nbformat": 4,
 "nbformat_minor": 2
}
