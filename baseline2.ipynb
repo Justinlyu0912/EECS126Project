{
 "cells": [
  {
   "cell_type": "code",
   "execution_count": 1,
   "metadata": {},
   "outputs": [],
   "source": [
    "from __future__ import print_function\n",
    "from ipywidgets import interact, interactive, fixed, interact_manual\n",
    "import ipywidgets as widgets\n",
    "import time\n",
    "import random\n",
    "import numpy as np\n",
    "import matplotlib.pyplot as plt\n",
    "from mpl_toolkits.mplot3d import Axes3D\n",
    "CAR_RATE = 3 # velocity of the car\n",
    "TIME_CONST = 10000 #zoom in the time\n",
    "RESOLUTION = 0.1"
   ]
  },
  {
   "cell_type": "code",
   "execution_count": 2,
   "metadata": {},
   "outputs": [],
   "source": [
    "class Road:\n",
    "    def __init__(self, city, numOfCell=10, introRate=2, remvRate=2, carRate = 2, direction = (0,1), startPos = (0,0),interval =0.001,totalTime = 1000,name=''):\n",
    "        #int numOfCell, int introRate, int remvRate, int index\n",
    "        self.__introRate = introRate\n",
    "        self.__remvRate = remvRate\n",
    "        self.carRate = carRate\n",
    "        self.allCars = [] #cars in this road\n",
    "        self.numOfCell = numOfCell\n",
    "        self.passCar = 0 # number of the passing cars\n",
    "        self.conflict = 0\n",
    "        self.direction = direction\n",
    "        self.startPos = startPos\n",
    "        self.endPos = (startPos[0]+self.direction[0]*(self.numOfCell-1), startPos[1]+self.direction[1]*(self.numOfCell-1))\n",
    "        #self.cell = {}  #cells in this road\n",
    "        self.city = city\n",
    "        self.time_sum_car = 0\n",
    "        self.density = 0\n",
    "        self.J = 0\n",
    "        self.interval = interval\n",
    "        self.totalTime = totalTime\n",
    "        self.name = name\n",
    "        for i in range(self.numOfCell):\n",
    "            self.city.map[(self.startPos[0]+self.direction[0]*i, self.startPos[1]+self.direction[1]*i)] = 1\n",
    "        \n",
    "    def introCar(self):\n",
    "        # introduce a new car to this road\n",
    "        if ((random.random() < self.__introRate*self.interval) &(self.city.map[self.startPos] == 1)):\n",
    "            self.city.map[self.startPos] = 2\n",
    "            newCar = Car(self, interval = self.interval,expClockRate= self.carRate)\n",
    "            self.allCars.insert(0, newCar)\n",
    "            \n",
    "    def remvCar(self):\n",
    "        # remove the car in the last cell of this road\n",
    "        if ((random.random() < self.__remvRate*self.interval)&(self.city.map[self.endPos] == 2)):\n",
    "            self.city.map[self.endPos] = 1\n",
    "            self.allCars.pop()\n",
    "            self.passCar += 1\n",
    "            \n",
    "    def showCar(self):\n",
    "        for i in range(self.numOfCell):\n",
    "            if self.city.map[(self.startPos[0]+self.direction[0]*i, self.startPos[1]+self.direction[1]*i)] == 1:\n",
    "                print(\" | \"+\" \",end=\"\")\n",
    "            else:\n",
    "                print(\" | \"+\"*\",end=\"\")\n",
    "        print(\" |\\n\")\n",
    "    def calculateRate(self):\n",
    "        self.density = self.time_sum_car/(self.totalTime/self.interval*self.numOfCell)\n",
    "        self.J = self.passCar / self.totalTime\n",
    "    \n",
    "    def light(self, position):\n",
    "        if random.random < 0.5:\n",
    "            self.city.map[position] = 3\n",
    "        else:\n",
    "            self.city.map[position] = 1\n",
    "            \n",
    "    def crossRoadLight(self, position1, position2):\n",
    "        if random.random < 0.5:\n",
    "            self.city.map[position1] = 3\n",
    "            self.city.map[position2] = 1\n",
    "        else:\n",
    "            self.city.map[position1] = 1\n",
    "            self.city.map[position2] = 3\n",
    "\n",
    "        "
   ]
  },
  {
   "cell_type": "code",
   "execution_count": 3,
   "metadata": {},
   "outputs": [],
   "source": [
    "class Car:\n",
    "    def __init__(self, road, position=0, expClockRate=3, prob=0.5,interval =0.001):\n",
    "        #int position, int expClockRate, float prob, int index (which road)\n",
    "        self.__position = (road.startPos[0]+road.direction[0]*position, road.startPos[1]+road.direction[1]*position)\n",
    "        self.__expClockRate = expClockRate\n",
    "        self.__prob = prob\n",
    "        self.__road = road\n",
    "        self.interval = interval\n",
    "    def moveForward(self):\n",
    "        if (random.random() < self.__expClockRate*self.interval)&(random.random() < self.__prob):\n",
    "            # expo & not broken\n",
    "            if (self.__road.city.map[(self.__position[0]+self.__road.direction[0], self.__position[1]+self.__road.direction[1])] == 1): # next cell is empty\n",
    "                self.__road.city.map[self.__position] = 1\n",
    "                self.__position = (self.__position[0]+self.__road.direction[0], self.__position[1]+self.__road.direction[1])\n",
    "                self.__road.city.map[self.__position] = 2\n",
    "            else:\n",
    "                return \"conflict\"\n",
    "        return \"move\""
   ]
  },
  {
   "cell_type": "code",
   "execution_count": 4,
   "metadata": {},
   "outputs": [],
   "source": [
    "class City:\n",
    "    def __init__(self, l=100, w=100,totalTime = 1000,interval = 0.001,name='Berkeley'):\n",
    "        self.l = l\n",
    "        self.w = w\n",
    "        self.map = {(i,j):0 for i in range(self.l) for j in range(self.w)} \n",
    "        self.roads=[]\n",
    "        self.totalTime = totalTime\n",
    "        self.interval = interval\n",
    "        self.name =name\n",
    "    def showCity(self):\n",
    "        rx = []\n",
    "        ry = []\n",
    "        cx = []\n",
    "        cy = []\n",
    "        for i in Berkeley.map:\n",
    "            if Berkeley.map[i] != 0:\n",
    "                rx.append(i[0])\n",
    "                ry.append(i[1])\n",
    "            if Berkeley.map[i] == 2:\n",
    "                cx.append(i[0])\n",
    "                cy.append(i[1])\n",
    "        plt.plot(rx, ry, \"o\")\n",
    "        plt.plot(cx, cy, \"*\")\n",
    "        plt.show()\n",
    "    def createRoad(self,numOfCell=10, introRate=2, remvRate=2,carRate = 2, direction = (0,1), startPos = (0,0),name = ''):\n",
    "        newRoad = Road(self, numOfCell=numOfCell, introRate=introRate, remvRate=remvRate, direction = direction, \\\n",
    "                       startPos = startPos,interval = self.interval,totalTime = self.totalTime, name = name)\n",
    "        self.roads.append(newRoad)\n",
    "    def introCar(self):\n",
    "        for road in self.roads:\n",
    "            road.introCar()\n",
    "            \n",
    "    def remvCar(self):\n",
    "        for road in self.roads:\n",
    "            road.remvCar()\n",
    "    def moveCar(self):\n",
    "        for road in self.roads:\n",
    "            for car in road.allCars:\n",
    "                ret = car.moveForward()\n",
    "                if ret ==\"conflict\":\n",
    "                    road.conflict += 1\n",
    "    def time_sum_car(self):\n",
    "        for road in self.roads:\n",
    "            road.time_sum_car += len(road.allCars)\n",
    "    def calculateRate(self):\n",
    "        for road in self.roads:\n",
    "            road.calculateRate()\n",
    "    def freshMap(self):\n",
    "        del(self.roads[:])\n",
    "        self.roads=[]\n",
    "        self.map = {(i,j):0 for i in range(self.l) for j in range(self.w)} "
   ]
  },
  {
   "cell_type": "code",
   "execution_count": null,
   "metadata": {},
   "outputs": [],
   "source": []
  },
  {
   "cell_type": "code",
   "execution_count": 5,
   "metadata": {},
   "outputs": [],
   "source": [
    "# startTime = 0\n",
    "# lastTime = startTime\n",
    "# Stop = False\")\n",
    "# currentTime = startTime - interval\n",
    "# while not Stop:\n",
    "#     currentTime = currentTime+interval\n",
    "#     if currentTime > TOTAL_TIME:\n",
    "#         Stop = True\n",
    "#     Berkeley.introCar()\n",
    "#     Berkeley.remvCar()\n",
    "#     Berkeley.moveCar()\n",
    "#     Berkeley.time_sum_car()\n",
    "# Berkeley.calculateRate()"
   ]
  },
  {
   "cell_type": "code",
   "execution_count": 10,
   "metadata": {},
   "outputs": [
    {
     "data": {
      "text/plain": [
       "<matplotlib.figure.Figure at 0x115f3e978>"
      ]
     },
     "metadata": {},
     "output_type": "display_data"
    }
   ],
   "source": [
    "fig = plt.figure()\n",
    "TOTAL_TIME = 1000\n",
    "interval = 0.001\n",
    "SF = City(totalTime=TOTAL_TIME, interval= interval, name = 'SF')\n",
    "x = np.arange(0, 2, 0.2)\n",
    "y = np.arange(0, 2, 0.2)\n",
    "j = []\n",
    "d = []\n",
    "for ir in x:\n",
    "    jj = []\n",
    "    dd = []\n",
    "    for rr in y:\n",
    "        SF.freshMap()\n",
    "        SF.createRoad(introRate=ir, remvRate=rr)\n",
    "        startTime = 0\n",
    "        Stop = False\n",
    "        currentTime = startTime - interval\n",
    "        while not Stop:\n",
    "            currentTime = currentTime+interval\n",
    "            if currentTime > TOTAL_TIME:\n",
    "                Stop = True\n",
    "            SF.introCar()\n",
    "            SF.remvCar()\n",
    "            SF.moveCar()\n",
    "            SF.time_sum_car()\n",
    "        SF.calculateRate()\n",
    "        jj.append(SF.roads[0].J)\n",
    "        dd.append(SF.roads[0].density)\n",
    "    j.append(jj)\n",
    "    d.append(dd)"
   ]
  },
  {
   "cell_type": "code",
   "execution_count": 9,
   "metadata": {},
   "outputs": [
    {
     "ename": "TypeError",
     "evalue": "Input z must be a 2D array.",
     "output_type": "error",
     "traceback": [
      "\u001b[0;31m---------------------------------------------------------------------------\u001b[0m",
      "\u001b[0;31mTypeError\u001b[0m                                 Traceback (most recent call last)",
      "\u001b[0;32m<ipython-input-9-66df14ec149d>\u001b[0m in \u001b[0;36m<module>\u001b[0;34m()\u001b[0m\n\u001b[1;32m      1\u001b[0m \u001b[0marray_z\u001b[0m \u001b[0;34m=\u001b[0m \u001b[0mnp\u001b[0m\u001b[0;34m.\u001b[0m\u001b[0marray\u001b[0m\u001b[0;34m(\u001b[0m\u001b[0mj\u001b[0m\u001b[0;34m)\u001b[0m\u001b[0;34m\u001b[0m\u001b[0m\n\u001b[1;32m      2\u001b[0m \u001b[0marray_x\u001b[0m\u001b[0;34m,\u001b[0m\u001b[0marray_y\u001b[0m \u001b[0;34m=\u001b[0m \u001b[0mnp\u001b[0m\u001b[0;34m.\u001b[0m\u001b[0mmeshgrid\u001b[0m\u001b[0;34m(\u001b[0m\u001b[0mx\u001b[0m\u001b[0;34m,\u001b[0m\u001b[0my\u001b[0m\u001b[0;34m)\u001b[0m\u001b[0;34m\u001b[0m\u001b[0m\n\u001b[0;32m----> 3\u001b[0;31m \u001b[0msurf\u001b[0m \u001b[0;34m=\u001b[0m \u001b[0mplt\u001b[0m\u001b[0;34m.\u001b[0m\u001b[0mcontourf\u001b[0m\u001b[0;34m(\u001b[0m\u001b[0marray_x\u001b[0m\u001b[0;34m,\u001b[0m\u001b[0marray_y\u001b[0m\u001b[0;34m,\u001b[0m\u001b[0marray_z\u001b[0m\u001b[0;34m)\u001b[0m\u001b[0;34m\u001b[0m\u001b[0m\n\u001b[0m\u001b[1;32m      4\u001b[0m \u001b[0mplt\u001b[0m\u001b[0;34m.\u001b[0m\u001b[0mxlabel\u001b[0m\u001b[0;34m(\u001b[0m\u001b[0;34m'remvRate'\u001b[0m\u001b[0;34m)\u001b[0m\u001b[0;34m\u001b[0m\u001b[0m\n\u001b[1;32m      5\u001b[0m \u001b[0mplt\u001b[0m\u001b[0;34m.\u001b[0m\u001b[0mylabel\u001b[0m\u001b[0;34m(\u001b[0m\u001b[0;34m'introRate'\u001b[0m\u001b[0;34m)\u001b[0m\u001b[0;34m\u001b[0m\u001b[0m\n",
      "\u001b[0;32m~/anaconda3/lib/python3.6/site-packages/matplotlib/pyplot.py\u001b[0m in \u001b[0;36mcontourf\u001b[0;34m(*args, **kwargs)\u001b[0m\n\u001b[1;32m   2816\u001b[0m                       mplDeprecation)\n\u001b[1;32m   2817\u001b[0m     \u001b[0;32mtry\u001b[0m\u001b[0;34m:\u001b[0m\u001b[0;34m\u001b[0m\u001b[0m\n\u001b[0;32m-> 2818\u001b[0;31m         \u001b[0mret\u001b[0m \u001b[0;34m=\u001b[0m \u001b[0max\u001b[0m\u001b[0;34m.\u001b[0m\u001b[0mcontourf\u001b[0m\u001b[0;34m(\u001b[0m\u001b[0;34m*\u001b[0m\u001b[0margs\u001b[0m\u001b[0;34m,\u001b[0m \u001b[0;34m**\u001b[0m\u001b[0mkwargs\u001b[0m\u001b[0;34m)\u001b[0m\u001b[0;34m\u001b[0m\u001b[0m\n\u001b[0m\u001b[1;32m   2819\u001b[0m     \u001b[0;32mfinally\u001b[0m\u001b[0;34m:\u001b[0m\u001b[0;34m\u001b[0m\u001b[0m\n\u001b[1;32m   2820\u001b[0m         \u001b[0max\u001b[0m\u001b[0;34m.\u001b[0m\u001b[0m_hold\u001b[0m \u001b[0;34m=\u001b[0m \u001b[0mwashold\u001b[0m\u001b[0;34m\u001b[0m\u001b[0m\n",
      "\u001b[0;32m~/anaconda3/lib/python3.6/site-packages/matplotlib/__init__.py\u001b[0m in \u001b[0;36minner\u001b[0;34m(ax, *args, **kwargs)\u001b[0m\n\u001b[1;32m   1715\u001b[0m                     warnings.warn(msg % (label_namer, func.__name__),\n\u001b[1;32m   1716\u001b[0m                                   RuntimeWarning, stacklevel=2)\n\u001b[0;32m-> 1717\u001b[0;31m             \u001b[0;32mreturn\u001b[0m \u001b[0mfunc\u001b[0m\u001b[0;34m(\u001b[0m\u001b[0max\u001b[0m\u001b[0;34m,\u001b[0m \u001b[0;34m*\u001b[0m\u001b[0margs\u001b[0m\u001b[0;34m,\u001b[0m \u001b[0;34m**\u001b[0m\u001b[0mkwargs\u001b[0m\u001b[0;34m)\u001b[0m\u001b[0;34m\u001b[0m\u001b[0m\n\u001b[0m\u001b[1;32m   1718\u001b[0m         \u001b[0mpre_doc\u001b[0m \u001b[0;34m=\u001b[0m \u001b[0minner\u001b[0m\u001b[0;34m.\u001b[0m\u001b[0m__doc__\u001b[0m\u001b[0;34m\u001b[0m\u001b[0m\n\u001b[1;32m   1719\u001b[0m         \u001b[0;32mif\u001b[0m \u001b[0mpre_doc\u001b[0m \u001b[0;32mis\u001b[0m \u001b[0;32mNone\u001b[0m\u001b[0;34m:\u001b[0m\u001b[0;34m\u001b[0m\u001b[0m\n",
      "\u001b[0;32m~/anaconda3/lib/python3.6/site-packages/matplotlib/axes/_axes.py\u001b[0m in \u001b[0;36mcontourf\u001b[0;34m(self, *args, **kwargs)\u001b[0m\n\u001b[1;32m   5825\u001b[0m             \u001b[0mself\u001b[0m\u001b[0;34m.\u001b[0m\u001b[0mcla\u001b[0m\u001b[0;34m(\u001b[0m\u001b[0;34m)\u001b[0m\u001b[0;34m\u001b[0m\u001b[0m\n\u001b[1;32m   5826\u001b[0m         \u001b[0mkwargs\u001b[0m\u001b[0;34m[\u001b[0m\u001b[0;34m'filled'\u001b[0m\u001b[0;34m]\u001b[0m \u001b[0;34m=\u001b[0m \u001b[0;32mTrue\u001b[0m\u001b[0;34m\u001b[0m\u001b[0m\n\u001b[0;32m-> 5827\u001b[0;31m         \u001b[0mcontours\u001b[0m \u001b[0;34m=\u001b[0m \u001b[0mmcontour\u001b[0m\u001b[0;34m.\u001b[0m\u001b[0mQuadContourSet\u001b[0m\u001b[0;34m(\u001b[0m\u001b[0mself\u001b[0m\u001b[0;34m,\u001b[0m \u001b[0;34m*\u001b[0m\u001b[0margs\u001b[0m\u001b[0;34m,\u001b[0m \u001b[0;34m**\u001b[0m\u001b[0mkwargs\u001b[0m\u001b[0;34m)\u001b[0m\u001b[0;34m\u001b[0m\u001b[0m\n\u001b[0m\u001b[1;32m   5828\u001b[0m         \u001b[0mself\u001b[0m\u001b[0;34m.\u001b[0m\u001b[0mautoscale_view\u001b[0m\u001b[0;34m(\u001b[0m\u001b[0;34m)\u001b[0m\u001b[0;34m\u001b[0m\u001b[0m\n\u001b[1;32m   5829\u001b[0m         \u001b[0;32mreturn\u001b[0m \u001b[0mcontours\u001b[0m\u001b[0;34m\u001b[0m\u001b[0m\n",
      "\u001b[0;32m~/anaconda3/lib/python3.6/site-packages/matplotlib/contour.py\u001b[0m in \u001b[0;36m__init__\u001b[0;34m(self, ax, *args, **kwargs)\u001b[0m\n\u001b[1;32m    851\u001b[0m         \u001b[0mself\u001b[0m\u001b[0;34m.\u001b[0m\u001b[0m_transform\u001b[0m \u001b[0;34m=\u001b[0m \u001b[0mkwargs\u001b[0m\u001b[0;34m.\u001b[0m\u001b[0mpop\u001b[0m\u001b[0;34m(\u001b[0m\u001b[0;34m'transform'\u001b[0m\u001b[0;34m,\u001b[0m \u001b[0;32mNone\u001b[0m\u001b[0;34m)\u001b[0m\u001b[0;34m\u001b[0m\u001b[0m\n\u001b[1;32m    852\u001b[0m \u001b[0;34m\u001b[0m\u001b[0m\n\u001b[0;32m--> 853\u001b[0;31m         \u001b[0mkwargs\u001b[0m \u001b[0;34m=\u001b[0m \u001b[0mself\u001b[0m\u001b[0;34m.\u001b[0m\u001b[0m_process_args\u001b[0m\u001b[0;34m(\u001b[0m\u001b[0;34m*\u001b[0m\u001b[0margs\u001b[0m\u001b[0;34m,\u001b[0m \u001b[0;34m**\u001b[0m\u001b[0mkwargs\u001b[0m\u001b[0;34m)\u001b[0m\u001b[0;34m\u001b[0m\u001b[0m\n\u001b[0m\u001b[1;32m    854\u001b[0m         \u001b[0mself\u001b[0m\u001b[0;34m.\u001b[0m\u001b[0m_process_levels\u001b[0m\u001b[0;34m(\u001b[0m\u001b[0;34m)\u001b[0m\u001b[0;34m\u001b[0m\u001b[0m\n\u001b[1;32m    855\u001b[0m \u001b[0;34m\u001b[0m\u001b[0m\n",
      "\u001b[0;32m~/anaconda3/lib/python3.6/site-packages/matplotlib/contour.py\u001b[0m in \u001b[0;36m_process_args\u001b[0;34m(self, *args, **kwargs)\u001b[0m\n\u001b[1;32m   1445\u001b[0m                 \u001b[0mself\u001b[0m\u001b[0;34m.\u001b[0m\u001b[0m_corner_mask\u001b[0m \u001b[0;34m=\u001b[0m \u001b[0mmpl\u001b[0m\u001b[0;34m.\u001b[0m\u001b[0mrcParams\u001b[0m\u001b[0;34m[\u001b[0m\u001b[0;34m'contour.corner_mask'\u001b[0m\u001b[0;34m]\u001b[0m\u001b[0;34m\u001b[0m\u001b[0m\n\u001b[1;32m   1446\u001b[0m \u001b[0;34m\u001b[0m\u001b[0m\n\u001b[0;32m-> 1447\u001b[0;31m             \u001b[0mx\u001b[0m\u001b[0;34m,\u001b[0m \u001b[0my\u001b[0m\u001b[0;34m,\u001b[0m \u001b[0mz\u001b[0m \u001b[0;34m=\u001b[0m \u001b[0mself\u001b[0m\u001b[0;34m.\u001b[0m\u001b[0m_contour_args\u001b[0m\u001b[0;34m(\u001b[0m\u001b[0margs\u001b[0m\u001b[0;34m,\u001b[0m \u001b[0mkwargs\u001b[0m\u001b[0;34m)\u001b[0m\u001b[0;34m\u001b[0m\u001b[0m\n\u001b[0m\u001b[1;32m   1448\u001b[0m \u001b[0;34m\u001b[0m\u001b[0m\n\u001b[1;32m   1449\u001b[0m             \u001b[0m_mask\u001b[0m \u001b[0;34m=\u001b[0m \u001b[0mma\u001b[0m\u001b[0;34m.\u001b[0m\u001b[0mgetmask\u001b[0m\u001b[0;34m(\u001b[0m\u001b[0mz\u001b[0m\u001b[0;34m)\u001b[0m\u001b[0;34m\u001b[0m\u001b[0m\n",
      "\u001b[0;32m~/anaconda3/lib/python3.6/site-packages/matplotlib/contour.py\u001b[0m in \u001b[0;36m_contour_args\u001b[0;34m(self, args, kwargs)\u001b[0m\n\u001b[1;32m   1526\u001b[0m             \u001b[0margs\u001b[0m \u001b[0;34m=\u001b[0m \u001b[0margs\u001b[0m\u001b[0;34m[\u001b[0m\u001b[0;36m1\u001b[0m\u001b[0;34m:\u001b[0m\u001b[0;34m]\u001b[0m\u001b[0;34m\u001b[0m\u001b[0m\n\u001b[1;32m   1527\u001b[0m         \u001b[0;32melif\u001b[0m \u001b[0mNargs\u001b[0m \u001b[0;34m<=\u001b[0m \u001b[0;36m4\u001b[0m\u001b[0;34m:\u001b[0m\u001b[0;34m\u001b[0m\u001b[0m\n\u001b[0;32m-> 1528\u001b[0;31m             \u001b[0mx\u001b[0m\u001b[0;34m,\u001b[0m \u001b[0my\u001b[0m\u001b[0;34m,\u001b[0m \u001b[0mz\u001b[0m \u001b[0;34m=\u001b[0m \u001b[0mself\u001b[0m\u001b[0;34m.\u001b[0m\u001b[0m_check_xyz\u001b[0m\u001b[0;34m(\u001b[0m\u001b[0margs\u001b[0m\u001b[0;34m[\u001b[0m\u001b[0;34m:\u001b[0m\u001b[0;36m3\u001b[0m\u001b[0;34m]\u001b[0m\u001b[0;34m,\u001b[0m \u001b[0mkwargs\u001b[0m\u001b[0;34m)\u001b[0m\u001b[0;34m\u001b[0m\u001b[0m\n\u001b[0m\u001b[1;32m   1529\u001b[0m             \u001b[0margs\u001b[0m \u001b[0;34m=\u001b[0m \u001b[0margs\u001b[0m\u001b[0;34m[\u001b[0m\u001b[0;36m3\u001b[0m\u001b[0;34m:\u001b[0m\u001b[0;34m]\u001b[0m\u001b[0;34m\u001b[0m\u001b[0m\n\u001b[1;32m   1530\u001b[0m         \u001b[0;32melse\u001b[0m\u001b[0;34m:\u001b[0m\u001b[0;34m\u001b[0m\u001b[0m\n",
      "\u001b[0;32m~/anaconda3/lib/python3.6/site-packages/matplotlib/contour.py\u001b[0m in \u001b[0;36m_check_xyz\u001b[0;34m(self, args, kwargs)\u001b[0m\n\u001b[1;32m   1560\u001b[0m \u001b[0;34m\u001b[0m\u001b[0m\n\u001b[1;32m   1561\u001b[0m         \u001b[0;32mif\u001b[0m \u001b[0mz\u001b[0m\u001b[0;34m.\u001b[0m\u001b[0mndim\u001b[0m \u001b[0;34m!=\u001b[0m \u001b[0;36m2\u001b[0m\u001b[0;34m:\u001b[0m\u001b[0;34m\u001b[0m\u001b[0m\n\u001b[0;32m-> 1562\u001b[0;31m             \u001b[0;32mraise\u001b[0m \u001b[0mTypeError\u001b[0m\u001b[0;34m(\u001b[0m\u001b[0;34m\"Input z must be a 2D array.\"\u001b[0m\u001b[0;34m)\u001b[0m\u001b[0;34m\u001b[0m\u001b[0m\n\u001b[0m\u001b[1;32m   1563\u001b[0m         \u001b[0;32melif\u001b[0m \u001b[0mz\u001b[0m\u001b[0;34m.\u001b[0m\u001b[0mshape\u001b[0m\u001b[0;34m[\u001b[0m\u001b[0;36m0\u001b[0m\u001b[0;34m]\u001b[0m \u001b[0;34m<\u001b[0m \u001b[0;36m2\u001b[0m \u001b[0;32mor\u001b[0m \u001b[0mz\u001b[0m\u001b[0;34m.\u001b[0m\u001b[0mshape\u001b[0m\u001b[0;34m[\u001b[0m\u001b[0;36m1\u001b[0m\u001b[0;34m]\u001b[0m \u001b[0;34m<\u001b[0m \u001b[0;36m2\u001b[0m\u001b[0;34m:\u001b[0m\u001b[0;34m\u001b[0m\u001b[0m\n\u001b[1;32m   1564\u001b[0m             \u001b[0;32mraise\u001b[0m \u001b[0mTypeError\u001b[0m\u001b[0;34m(\u001b[0m\u001b[0;34m\"Input z must be at least a 2x2 array.\"\u001b[0m\u001b[0;34m)\u001b[0m\u001b[0;34m\u001b[0m\u001b[0m\n",
      "\u001b[0;31mTypeError\u001b[0m: Input z must be a 2D array."
     ]
    },
    {
     "data": {
      "image/png": "[encoded data removed]",
      "text/plain": [
       "<matplotlib.figure.Figure at 0x115c20400>"
      ]
     },
     "metadata": {},
     "output_type": "display_data"
    }
   ],
   "source": [
    "array_z = np.array(j)\n",
    "array_x,array_y = np.meshgrid(x,y)\n",
    "surf = plt.contourf(array_x,array_y,array_z)\n",
    "plt.xlabel('remvRate')\n",
    "plt.ylabel('introRate')\n",
    "plt.title(\"J\")\n",
    "plt.colorbar()\n",
    "plt.show\n",
    "\n"
   ]
  },
  {
   "cell_type": "code",
   "execution_count": 64,
   "metadata": {},
   "outputs": [
    {
     "data": {
      "text/plain": [
       "<function matplotlib.pyplot.show>"
      ]
     },
     "execution_count": 64,
     "metadata": {},
     "output_type": "execute_result"
    },
    {
     "data": {
      "image/png": "[encoded data removed]",
      "text/plain": [
       "<Figure size 432x288 with 2 Axes>"
      ]
     },
     "metadata": {},
     "output_type": "display_data"
    }
   ],
   "source": [
    "array_z = np.array(d)\n",
    "array_x,array_y = np.meshgrid(y,x)\n",
    "surf = plt.contourf(array_x,array_y,array_z)\n",
    "plt.xlabel('remvRate')\n",
    "plt.ylabel('introRate')\n",
    "plt.title(\"D\")\n",
    "plt.colorbar()\n",
    "plt.show"
   ]
  },
  {
   "cell_type": "code",
   "execution_count": 63,
   "metadata": {},
   "outputs": [
    {
     "name": "stdout",
     "output_type": "stream",
     "text": [
      "[[0, 0, 0, 0, 0, 0, 0, 0, 0, 0], [0, 78, 96, 99, 92, 91, 81, 90, 99, 95], [0, 109, 149, 168, 173, 160, 150, 187, 171, 159], [0, 97, 160, 218, 224, 228, 240, 249, 264, 237], [0, 85, 159, 237, 266, 289, 274, 275, 281, 297], [0, 85, 156, 243, 272, 301, 324, 314, 341, 320], [0, 91, 182, 232, 285, 327, 356, 350, 355, 357], [0, 103, 172, 250, 268, 298, 353, 355, 375, 368], [0, 70, 167, 231, 267, 292, 365, 378, 375, 389], [0, 94, 167, 253, 281, 304, 351, 380, 370, 399]]\n"
     ]
    }
   ],
   "source": [
    "print (z)"
   ]
  },
  {
   "cell_type": "code",
   "execution_count": 56,
   "metadata": {},
   "outputs": [],
   "source": [
    "bk = City(totalTime=TOTAL_TIME, interval= interval)\n",
    "bk.createRoad(introRate=1, remvRate=0.1)\n",
    "startTime = 0\n",
    "Stop = False\n",
    "currentTime = startTime - interval\n",
    "while not Stop:\n",
    "    currentTime = currentTime+interval\n",
    "    if currentTime > TOTAL_TIME:\n",
    "        Stop = True\n",
    "    bk.introCar()\n",
    "    bk.remvCar()\n",
    "    bk.moveCar()\n",
    "    bk.time_sum_car()\n",
    "bk.calculateRate()"
   ]
  },
  {
   "cell_type": "code",
   "execution_count": 57,
   "metadata": {},
   "outputs": [
    {
     "data": {
      "text/plain": [
       "0.8926585"
      ]
     },
     "execution_count": 57,
     "metadata": {},
     "output_type": "execute_result"
    }
   ],
   "source": [
    "bk.roads[0].density"
   ]
  },
  {
   "cell_type": "code",
   "execution_count": 58,
   "metadata": {},
   "outputs": [],
   "source": [
    "y = np.arange(0, 1, 0.1)"
   ]
  },
  {
   "cell_type": "code",
   "execution_count": 59,
   "metadata": {},
   "outputs": [
    {
     "name": "stdout",
     "output_type": "stream",
     "text": [
      "[0.  0.1 0.2 0.3 0.4 0.5 0.6 0.7 0.8 0.9]\n"
     ]
    }
   ],
   "source": []
  },
  {
   "cell_type": "code",
   "execution_count": null,
   "metadata": {},
   "outputs": [],
   "source": [
    "fig = plt.figure()\n",
    "TOTAL_TIME = 1000\n",
    "interval = 0.001\n",
    " = City(totalTime=TOTAL_TIME, interval= interval, name = 'SF')\n",
    "x = np.arange(0, 2, 0.2)\n",
    "y = np.arange(0, 2, 0.2)\n",
    "j = []\n",
    "d = []\n",
    "for ir in x:\n",
    "    jj = []\n",
    "    dd = []\n",
    "    for rr in y:\n",
    "        SF.freshMap()\n",
    "        SF.createRoad(introRate=ir, remvRate=rr)\n",
    "        startTime = 0\n",
    "        Stop = False\n",
    "        currentTime = startTime - interval\n",
    "        while not Stop:\n",
    "            currentTime = currentTime+interval\n",
    "            if currentTime > TOTAL_TIME:\n",
    "                Stop = True\n",
    "            SF.introCar()\n",
    "            SF.remvCar()\n",
    "            SF.moveCar()\n",
    "            SF.time_sum_car()\n",
    "        SF.calculateRate()\n",
    "        jj.append(SF.roads[0].J)\n",
    "        dd.append(SF.roads[0].density)\n",
    "    j.append(jj)\n",
    "    d.append(dd)"
   ]
  },
  {
   "cell_type": "code",
   "execution_count": 68,
   "metadata": {},
   "outputs": [
    {
     "name": "stdout",
     "output_type": "stream",
     "text": [
      "Please use the sliders below to adjust the parameters. They are: carRate, carMoveProb, numOfCell, introRate, remvRate\n"
     ]
    },
    {
     "data": {
      "application/vnd.jupyter.widget-view+json": {
       "model_id": "8be1cf79b7d941da8a8ac798ae01fc62",
       "version_major": 2,
       "version_minor": 0
      },
      "text/plain": [
       "VBox(children=(FloatSlider(value=0.1, description='carRate: ', max=5.0, min=0.1), FloatSlider(value=0.0, descr…"
      ]
     },
     "metadata": {},
     "output_type": "display_data"
    },
    {
     "data": {
      "application/vnd.jupyter.widget-view+json": {
       "model_id": "a999fa5c1e0e4a7f864689ee670a4c4a",
       "version_major": 2,
       "version_minor": 0
      },
      "text/plain": [
       "Output()"
      ]
     },
     "metadata": {},
     "output_type": "display_data"
    },
    {
     "name": "stdout",
     "output_type": "stream",
     "text": [
      "Now we are ready for the simulations.\n"
     ]
    }
   ],
   "source": [
    "<<<<<<< REMOTE CELL DELETED >>>>>>>\n",
    "\n",
    "carRate = widgets.FloatSlider(min=0.1, max=5.0, step=0.1, description='carRate: ')\n",
    "carMoveProb = widgets.FloatSlider(min=0.0, max=1.0,step =0.001, description='moveProb:')\n",
    "\n",
    "numOfCell = widgets.IntSlider(min=10, max=100, step=1, description='numOfCell: ')\n",
    "introRate = widgets.FloatSlider(min=0.1, max=5.0, step=0.1, description='introRate: ')\n",
    "remvRate = widgets.FloatSlider(min=0.1, max=5.0, step=0.1, description='remvRate: ')\n",
    "\n",
    "ui = widgets.VBox([carRate, carMoveProb, numOfCell, introRate, remvRate])\n",
    "\n",
    "def f(carRate, carMoveProb, numOfCell, introRate, remvRate):\n",
    "    print('Now on our roads: \\n'+' The cars move at a speed of '+str(carRate),'\\n', 'The probability that each of the cars move is '+str(carMoveProb)+'\\n', 'At the same time, there are '+str(numOfCell)+' cars at most on our roads.\\n', 'The cars go into the roads at a rate of '+str(introRate)+'\\n', 'The cars leave the roads at a rate of '+str(remvRate)+'\\n')\n",
    "    return(carRate, carMoveProb, numOfCell, introRate, remvRate)\n",
    "\n",
    "out = widgets.interactive_output(f, {'remvRate': remvRate, 'introRate': introRate, 'numOfCell': numOfCell, 'carMoveProb':carMoveProb , 'carRate': carRate})\n",
    "\n",
    "print('Please use the sliders below to adjust the parameters. They are: carRate, carMoveProb, numOfCell, introRate, remvRate')\n",
    "\n",
    "display(ui, out)\n",
    "\n",
    "# print(carRate.value)\n",
    "\n",
    "# def on_value_change(change):\n",
    "#     with out:\n",
    "#         print(change['new'])\n",
    "#     return change['new']\n",
    "\n",
    "# print(numOfCell.observe(on_value_change, names='value'))\n",
    "\n",
    "print(\"Now we are ready for the simulations.\")"
   ]
  },
  {
   "cell_type": "code",
   "execution_count": 67,
   "metadata": {},
   "outputs": [
    {
     "name": "stdout",
     "output_type": "stream",
     "text": [
      "3.2\n"
     ]
    }
   ],
   "source": []
  }
 ],
 "metadata": {
  "kernelspec": {
   "display_name": "Python 3",
   "language": "python",
   "name": "python3"
  },
  "language_info": {
   "codemirror_mode": {
    "name": "ipython",
    "version": 3
   },
   "file_extension": ".py",
   "mimetype": "text/x-python",
   "name": "python",
   "nbconvert_exporter": "python",
   "pygments_lexer": "ipython3",
   "version": "3.7.3"
  }
 },
 "nbformat": 4,
 "nbformat_minor": 2
}
