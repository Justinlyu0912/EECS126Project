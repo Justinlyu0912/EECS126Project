{
 "cells": [
  {
   "cell_type": "code",
   "execution_count": 2,
   "metadata": {},
   "outputs": [],
   "source": [
    "import time\n",
    "import random\n",
    "import numpy as np\n",
    "import matplotlib.pyplot as plt\n",
    "from mpl_toolkits.mplot3d import Axes3D\n",
    "CAR_RATE = 3 # velocity of the car\n",
    "TIME_CONST = 10000 #zoom in the time\n",
    "RESOLUTION = 0.1"
   ]
  },
  {
   "cell_type": "code",
   "execution_count": 3,
   "metadata": {},
   "outputs": [],
   "source": [
    "class Road:\n",
    "    def __init__(self, city, numOfCell=10, introRate=2, remvRate=2, direction = (0,1), startPos = (0,0),interval =0.001,totalTime = 1000,name=''):\n",
    "        #int numOfCell, int introRate, int remvRate, int index\n",
    "        self.__introRate = introRate\n",
    "        self.__remvRate = remvRate\n",
    "        self.allCars = [] #cars in this road\n",
    "        self.numOfCell = numOfCell\n",
    "        self.passCar = 0 # number of the passing cars\n",
    "        self.conflict = 0\n",
    "        self.direction = direction\n",
    "        self.startPos = startPos\n",
    "        self.endPos = (startPos[0]+self.direction[0]*(self.numOfCell-1), startPos[1]+self.direction[1]*(self.numOfCell-1))\n",
    "        #self.cell = {}  #cells in this road\n",
    "        self.city = city\n",
    "        self.time_sum_car = 0\n",
    "        self.density = 0\n",
    "        self.J = 0\n",
    "        self.interval = interval\n",
    "        self.totalTime = totalTime\n",
    "        self.name = name\n",
    "        for i in range(self.numOfCell):\n",
    "            self.city.map[(self.startPos[0]+self.direction[0]*i, self.startPos[1]+self.direction[1]*i)] = 1\n",
    "        \n",
    "    def introCar(self):\n",
    "        # introduce a new car to this road\n",
    "        if ((random.random() < self.__introRate*self.interval) &(self.city.map[self.startPos] == 1)):\n",
    "            self.city.map[self.startPos] = 2\n",
    "            newCar = Car(self, interval = self.interval)\n",
    "            self.allCars.insert(0, newCar)\n",
    "            \n",
    "    def remvCar(self):\n",
    "        # remove the car in the last cell of this road\n",
    "        if ((random.random() < self.__remvRate*self.interval)&(self.city.map[self.endPos] == 2)):\n",
    "            self.city.map[self.endPos] = 1\n",
    "            self.allCars.pop()\n",
    "            self.passCar += 1\n",
    "            \n",
    "    def showCar(self):\n",
    "        for i in range(self.numOfCell):\n",
    "            if self.city.map[(self.startPos[0]+self.direction[0]*i, self.startPos[1]+self.direction[1]*i)] == 1:\n",
    "                print(\" | \"+\" \",end=\"\")\n",
    "            else:\n",
    "                print(\" | \"+\"*\",end=\"\")\n",
    "        print(\" |\\n\")\n",
    "    def calculateRate(self):\n",
    "        self.density = self.time_sum_car/(self.totalTime/self.interval*self.numOfCell)\n",
    "        self.J = self.passCar / self.totalTime\n",
    "        \n",
    "\n",
    "        "
   ]
  },
  {
   "cell_type": "code",
   "execution_count": 4,
   "metadata": {},
   "outputs": [],
   "source": [
    "class Car:\n",
    "    def __init__(self, road, position=0, expClockRate=3, prob=0.5,interval =0.001):\n",
    "        #int position, int expClockRate, float prob, int index (which road)\n",
    "        self.__position = (road.startPos[0]+road.direction[0]*position, road.startPos[1]+road.direction[1]*position)\n",
    "        self.__expClockRate = expClockRate\n",
    "        self.__prob = prob\n",
    "        self.__road = road\n",
    "        self.interval = interval\n",
    "    def moveForward(self):\n",
    "        if (random.random() < self.__expClockRate*self.interval)&(random.random() < self.__prob):\n",
    "            # expo & not broken\n",
    "            if (self.__road.city.map[(self.__position[0]+self.__road.direction[0], self.__position[1]+self.__road.direction[1])] == 1): # next cell is empty\n",
    "                self.__road.city.map[self.__position] = 1\n",
    "                self.__position = (self.__position[0]+self.__road.direction[0], self.__position[1]+self.__road.direction[1])\n",
    "                self.__road.city.map[self.__position] = 2\n",
    "            else:\n",
    "                return \"conflict\"\n",
    "        return \"move\""
   ]
  },
  {
   "cell_type": "code",
   "execution_count": 10,
   "metadata": {},
   "outputs": [],
   "source": [
    "class City:\n",
    "    def __init__(self, l=100, w=100,totalTime = 1000,interval = 0.001,name='Berkeley'):\n",
    "        self.l = l\n",
    "        self.w = w\n",
    "        self.map = {(i,j):0 for i in range(self.l) for j in range(self.w)} \n",
    "        self.roads=[]\n",
    "        self.totalTime = totalTime\n",
    "        self.interval = interval\n",
    "        self.name ='Berkeley'\n",
    "    def showCity(self):\n",
    "        rx = []\n",
    "        ry = []\n",
    "        cx = []\n",
    "        cy = []\n",
    "        for i in Berkeley.map:\n",
    "            if Berkeley.map[i] != 0:\n",
    "                rx.append(i[0])\n",
    "                ry.append(i[1])\n",
    "            if Berkeley.map[i] == 2:\n",
    "                cx.append(i[0])\n",
    "                cy.append(i[1])\n",
    "        plt.plot(rx, ry, \"o\")\n",
    "        plt.plot(cx, cy, \"*\")\n",
    "        plt.show()\n",
    "    def createRoad(self,numOfCell=10, introRate=2, remvRate=2, direction = (0,1), startPos = (0,0),name = ''):\n",
    "        newRoad = Road(self, numOfCell=numOfCell, introRate=introRate, remvRate=remvRate, direction = direction, \\\n",
    "                       startPos = startPos,interval = self.interval,totalTime = self.totalTime, name = name)\n",
    "        self.roads.append(newRoad)\n",
    "    def introCar(self):\n",
    "        for road in self.roads:\n",
    "            road.introCar()\n",
    "            \n",
    "    def remvCar(self):\n",
    "        for road in self.roads:\n",
    "            road.remvCar()\n",
    "            \n",
    "    def moveCar(self):\n",
    "        for road in self.roads:\n",
    "            for car in road.allCars:\n",
    "                ret = car.moveForward()\n",
    "                if ret ==\"conflict\":\n",
    "                    road.conflict += 1\n",
    "    def time_sum_car(self):\n",
    "        for road in self.roads:\n",
    "            road.time_sum_car += len(road.allCars)\n",
    "    def calculateRate(self):\n",
    "        for road in self.roads:\n",
    "            road.calculateRate()\n",
    "    def freshMap(self):\n",
    "        self.map = {(i,j):0 for i in range(self.l) for j in range(self.w)} "
   ]
  },
  {
   "cell_type": "code",
   "execution_count": 6,
   "metadata": {},
   "outputs": [],
   "source": [
    "TOTAL_TIME = 1000\n",
    "interval = 0.001\n",
    "Berkeley = City(totalTime=TOTAL_TIME, interval= interval)\n",
    "Berkeley.createRoad(name='road1')\n",
    "Berkeley.createRoad(numOfCell=12, introRate=3, remvRate=5, direction = (1,0), startPos = (-5,0),name='road2')\n",
    "Berkeley.createRoad(numOfCell=10, introRate=4, remvRate=2, direction = (1,1), startPos = (-3,0),name='road3')"
   ]
  },
  {
   "cell_type": "code",
   "execution_count": 7,
   "metadata": {},
   "outputs": [],
   "source": [
    "startTime = 0\n",
    "lastTime = startTime\n",
    "Stop = False\n",
    "currentTime = startTime - interval\n",
    "while not Stop:\n",
    "    currentTime = currentTime+interval\n",
    "    if currentTime > TOTAL_TIME:\n",
    "        Stop = True\n",
    "    Berkeley.introCar()\n",
    "    Berkeley.remvCar()\n",
    "    Berkeley.moveCar()\n",
    "    Berkeley.time_sum_car()\n",
    "    lastTime = currentTime\n",
    "Berkeley.calculateRate()"
   ]
  },
  {
   "cell_type": "code",
   "execution_count": 178,
   "metadata": {},
   "outputs": [
    {
     "name": "stdout",
     "output_type": "stream",
     "text": [
      "0.28264266666666665\n",
      "0.316\n"
     ]
    }
   ],
   "source": [
    "print(Berkeley.roads[1].density)\n",
    "print(Berkeley.roads[2].J)"
   ]
  },
  {
   "cell_type": "code",
   "execution_count": 179,
   "metadata": {},
   "outputs": [
    {
     "data": {
      "image/png": "[encoded data removed]",
      "text/plain": [
       "<Figure size 432x288 with 1 Axes>"
      ]
     },
     "metadata": {},
     "output_type": "display_data"
    }
   ],
   "source": [
    "Berkeley.showCity()"
   ]
  },
  {
   "cell_type": "code",
   "execution_count": 12,
   "metadata": {},
   "outputs": [
    {
     "ename": "IndexError",
     "evalue": "pop from empty list",
     "output_type": "error",
     "traceback": [
      "\u001b[0;31m---------------------------------------------------------------------------\u001b[0m",
      "\u001b[0;31mIndexError\u001b[0m                                Traceback (most recent call last)",
      "\u001b[0;32m<ipython-input-12-33277cc7de2c>\u001b[0m in \u001b[0;36m<module>\u001b[0;34m()\u001b[0m\n\u001b[1;32m     12\u001b[0m         \u001b[0;32mfor\u001b[0m \u001b[0m_\u001b[0m \u001b[0;32min\u001b[0m \u001b[0mrange\u001b[0m\u001b[0;34m(\u001b[0m\u001b[0;36m100\u001b[0m\u001b[0;34m)\u001b[0m\u001b[0;34m:\u001b[0m\u001b[0;34m\u001b[0m\u001b[0m\n\u001b[1;32m     13\u001b[0m             \u001b[0mSF\u001b[0m\u001b[0;34m.\u001b[0m\u001b[0mintroCar\u001b[0m\u001b[0;34m(\u001b[0m\u001b[0;34m)\u001b[0m\u001b[0;34m\u001b[0m\u001b[0m\n\u001b[0;32m---> 14\u001b[0;31m             \u001b[0mSF\u001b[0m\u001b[0;34m.\u001b[0m\u001b[0mremvCar\u001b[0m\u001b[0;34m(\u001b[0m\u001b[0;34m)\u001b[0m\u001b[0;34m\u001b[0m\u001b[0m\n\u001b[0m\u001b[1;32m     15\u001b[0m             \u001b[0mSF\u001b[0m\u001b[0;34m.\u001b[0m\u001b[0mmoveCar\u001b[0m\u001b[0;34m(\u001b[0m\u001b[0;34m)\u001b[0m\u001b[0;34m\u001b[0m\u001b[0m\n\u001b[1;32m     16\u001b[0m         \u001b[0mzz\u001b[0m\u001b[0;34m.\u001b[0m\u001b[0mappend\u001b[0m\u001b[0;34m(\u001b[0m\u001b[0mSF\u001b[0m\u001b[0;34m.\u001b[0m\u001b[0mroads\u001b[0m\u001b[0;34m[\u001b[0m\u001b[0;36m0\u001b[0m\u001b[0;34m]\u001b[0m\u001b[0;34m.\u001b[0m\u001b[0mpassCar\u001b[0m\u001b[0;34m)\u001b[0m\u001b[0;34m\u001b[0m\u001b[0m\n",
      "\u001b[0;32m<ipython-input-10-bec658fa49a7>\u001b[0m in \u001b[0;36mremvCar\u001b[0;34m(self)\u001b[0m\n\u001b[1;32m     32\u001b[0m     \u001b[0;32mdef\u001b[0m \u001b[0mremvCar\u001b[0m\u001b[0;34m(\u001b[0m\u001b[0mself\u001b[0m\u001b[0;34m)\u001b[0m\u001b[0;34m:\u001b[0m\u001b[0;34m\u001b[0m\u001b[0m\n\u001b[1;32m     33\u001b[0m         \u001b[0;32mfor\u001b[0m \u001b[0mroad\u001b[0m \u001b[0;32min\u001b[0m \u001b[0mself\u001b[0m\u001b[0;34m.\u001b[0m\u001b[0mroads\u001b[0m\u001b[0;34m:\u001b[0m\u001b[0;34m\u001b[0m\u001b[0m\n\u001b[0;32m---> 34\u001b[0;31m             \u001b[0mroad\u001b[0m\u001b[0;34m.\u001b[0m\u001b[0mremvCar\u001b[0m\u001b[0;34m(\u001b[0m\u001b[0;34m)\u001b[0m\u001b[0;34m\u001b[0m\u001b[0m\n\u001b[0m\u001b[1;32m     35\u001b[0m \u001b[0;34m\u001b[0m\u001b[0m\n\u001b[1;32m     36\u001b[0m     \u001b[0;32mdef\u001b[0m \u001b[0mmoveCar\u001b[0m\u001b[0;34m(\u001b[0m\u001b[0mself\u001b[0m\u001b[0;34m)\u001b[0m\u001b[0;34m:\u001b[0m\u001b[0;34m\u001b[0m\u001b[0m\n",
      "\u001b[0;32m<ipython-input-3-45f82a219ec4>\u001b[0m in \u001b[0;36mremvCar\u001b[0;34m(self)\u001b[0m\n\u001b[1;32m     33\u001b[0m         \u001b[0;32mif\u001b[0m \u001b[0;34m(\u001b[0m\u001b[0;34m(\u001b[0m\u001b[0mrandom\u001b[0m\u001b[0;34m.\u001b[0m\u001b[0mrandom\u001b[0m\u001b[0;34m(\u001b[0m\u001b[0;34m)\u001b[0m \u001b[0;34m<\u001b[0m \u001b[0mself\u001b[0m\u001b[0;34m.\u001b[0m\u001b[0m__remvRate\u001b[0m\u001b[0;34m*\u001b[0m\u001b[0mself\u001b[0m\u001b[0;34m.\u001b[0m\u001b[0minterval\u001b[0m\u001b[0;34m)\u001b[0m\u001b[0;34m&\u001b[0m\u001b[0;34m(\u001b[0m\u001b[0mself\u001b[0m\u001b[0;34m.\u001b[0m\u001b[0mcity\u001b[0m\u001b[0;34m.\u001b[0m\u001b[0mmap\u001b[0m\u001b[0;34m[\u001b[0m\u001b[0mself\u001b[0m\u001b[0;34m.\u001b[0m\u001b[0mendPos\u001b[0m\u001b[0;34m]\u001b[0m \u001b[0;34m==\u001b[0m \u001b[0;36m2\u001b[0m\u001b[0;34m)\u001b[0m\u001b[0;34m)\u001b[0m\u001b[0;34m:\u001b[0m\u001b[0;34m\u001b[0m\u001b[0m\n\u001b[1;32m     34\u001b[0m             \u001b[0mself\u001b[0m\u001b[0;34m.\u001b[0m\u001b[0mcity\u001b[0m\u001b[0;34m.\u001b[0m\u001b[0mmap\u001b[0m\u001b[0;34m[\u001b[0m\u001b[0mself\u001b[0m\u001b[0;34m.\u001b[0m\u001b[0mendPos\u001b[0m\u001b[0;34m]\u001b[0m \u001b[0;34m=\u001b[0m \u001b[0;36m1\u001b[0m\u001b[0;34m\u001b[0m\u001b[0m\n\u001b[0;32m---> 35\u001b[0;31m             \u001b[0mself\u001b[0m\u001b[0;34m.\u001b[0m\u001b[0mallCars\u001b[0m\u001b[0;34m.\u001b[0m\u001b[0mpop\u001b[0m\u001b[0;34m(\u001b[0m\u001b[0;34m)\u001b[0m\u001b[0;34m\u001b[0m\u001b[0m\n\u001b[0m\u001b[1;32m     36\u001b[0m             \u001b[0mself\u001b[0m\u001b[0;34m.\u001b[0m\u001b[0mpassCar\u001b[0m \u001b[0;34m+=\u001b[0m \u001b[0;36m1\u001b[0m\u001b[0;34m\u001b[0m\u001b[0m\n\u001b[1;32m     37\u001b[0m \u001b[0;34m\u001b[0m\u001b[0m\n",
      "\u001b[0;31mIndexError\u001b[0m: pop from empty list"
     ]
    },
    {
     "data": {
      "text/plain": [
       "<matplotlib.figure.Figure at 0x11e620160>"
      ]
     },
     "metadata": {},
     "output_type": "display_data"
    }
   ],
   "source": [
    "fig = plt.figure()\n",
    "\n",
    "SF = City()\n",
    "x = np.arange(0, 15, 0.1)\n",
    "y = np.arange(0, 15, 0.1)\n",
    "z = []\n",
    "for ir in x:\n",
    "    zz = []\n",
    "    for rr in y:\n",
    "        SF.freshMap()\n",
    "        SF.createRoad(introRate=ir, remvRate=rr)\n",
    "        for _ in range(100):\n",
    "            SF.introCar()\n",
    "            SF.remvCar()\n",
    "            SF.moveCar()\n",
    "        zz.append(SF.roads[0].passCar)\n",
    "    z.append(zz)\n",
    "z = np.array(z)\n",
    "x,y = np.meshgrid(x,y)\n",
    "surf = plt.contourf(x,y,z)\n",
    "\n",
    "plt.title(\"PASS CAR\")\n",
    "ax.set_xlabel('intro rate', color='r')  \n",
    "ax.set_ylabel('remv rate', color='g')  \n",
    "ax.set_zlabel('pass car', color='b')\n",
    "\n",
    "plt.show"
   ]
  },
  {
   "cell_type": "code",
   "execution_count": 15,
   "metadata": {},
   "outputs": [
    {
     "name": "stdout",
     "output_type": "stream",
     "text": [
      "1\n"
     ]
    }
   ],
   "source": [
    "print(SF.map[SF.roads[0].endPos])"
   ]
  },
  {
   "cell_type": "code",
   "execution_count": null,
   "metadata": {},
   "outputs": [],
   "source": [
    "def test():\n",
    "    car_rate = (num)\n",
    "    numOfCell = (num)\n",
    "    introRate = (num)\n",
    "    remvRate = (num)"
   ]
  }
 ],
 "metadata": {
  "kernelspec": {
   "display_name": "Python 3",
   "language": "python",
   "name": "python3"
  },
  "language_info": {
   "codemirror_mode": {
    "name": "ipython",
    "version": 3
   },
   "file_extension": ".py",
   "mimetype": "text/x-python",
   "name": "python",
   "nbconvert_exporter": "python",
   "pygments_lexer": "ipython3",
   "version": "3.7.3"
  }
 },
 "nbformat": 4,
 "nbformat_minor": 2
}
