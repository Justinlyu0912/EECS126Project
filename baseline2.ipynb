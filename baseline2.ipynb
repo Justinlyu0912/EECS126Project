{
 "cells": [
  {
   "cell_type": "code",
   "execution_count": 58,
   "metadata": {},
   "outputs": [],
   "source": [
    "import time\n",
    "import random\n",
    "import numpy as np\n",
    "import matplotlib.pyplot as plt\n",
    "from mpl_toolkits.mplot3d import Axes3D\n",
    "CAR_RATE = 3 # velocity of the car\n",
    "TIME_CONST = 10000 #zoom in the time\n",
    "RESOLUTION = 0.1"
   ]
  },
  {
   "cell_type": "code",
   "execution_count": 188,
   "metadata": {},
   "outputs": [],
   "source": [
    "class road:\n",
    "    def __init__(self, city, numOfCell=10, introRate=2, remvRate=2, direction = (0,1), startPos = (0,0)):\n",
    "        #int numOfCell, int introRate, int remvRate, int index\n",
    "        self.__introRate = introRate\n",
    "        self.__remvRate = remvRate\n",
    "        self.allCars = [] #cars in this road\n",
    "        self.numOfCell = numOfCell\n",
    "        self.passCar = 0 # number of the passing cars\n",
    "        self.conflict = 0\n",
    "        self.direction = direction\n",
    "        self.startPos = startPos\n",
    "        self.endPos = (startPos[0]+self.direction[0]*(self.numOfCell-1), startPos[1]+self.direction[1]*(self.numOfCell-1))\n",
    "        #self.cell = {}  #cells in this road\n",
    "        self.city = city\n",
    "        for i in range(self.numOfCell):\n",
    "            self.city.map[(self.startPos[0]+self.direction[0]*i, self.startPos[1]+self.direction[1]*i)] = 1\n",
    "        \n",
    "    def introCar(self,interval):\n",
    "        # introduce a new car to this road\n",
    "        if ((random.random() < self.__introRate*interval)&(self.city.map[self.startPos] == 1)):\n",
    "            #print(\"new car!!!\")\n",
    "            self.city.map[self.startPos] = 2\n",
    "            newCar = car(self)\n",
    "            self.allCars.insert(0, newCar)\n",
    "            \n",
    "    def remvCar(self, interval):\n",
    "        # remove the car in the last cell of this road\n",
    "        if ((random.random() < self.__remvRate*interval)&(self.city.map[self.endPos] == 2)):\n",
    "            self.city.map[self.endPos] = 1\n",
    "            self.allCars.pop()\n",
    "            self.passCar += 1\n",
    "            \n",
    "    def showCar(self):\n",
    "        for i in range(self.numOfCell):\n",
    "            if self.city.map[(self.startPos[0]+self.direction[0]*i, self.startPos[1]+self.direction[1]*i)] == 1:\n",
    "                print(\" | \"+\" \",end=\"\")\n",
    "            else:\n",
    "                print(\" | \"+\"*\",end=\"\")\n",
    "        print(\" |\\n\")"
   ]
  },
  {
   "cell_type": "code",
   "execution_count": 260,
   "metadata": {},
   "outputs": [],
   "source": [
    "class car:\n",
    "    def __init__(self, road, position=0, expClockRate=3, prob=0.5):\n",
    "        #int position, int expClockRate, float prob, int index (which road)\n",
    "        self.__position = (road.startPos[0]+road.direction[0]*position, road.startPos[1]+road.direction[1]*position)\n",
    "        self.__expClockRate = expClockRate\n",
    "        self.__prob = prob\n",
    "        self.__road = road\n",
    "    def moveForward(self, interval):\n",
    "        if (random.random() < self.__expClockRate*interval)&(random.random() < self.__prob):\n",
    "            # expo & not broken\n",
    "            if (self.__road.city.map[(self.__position[0]+self.__road.direction[0], self.__position[1]+self.__road.direction[1])] == 1): # next cell is empty\n",
    "                self.__road.city.map[self.__position] = 1\n",
    "                self.__position = (self.__position[0]+self.__road.direction[0], self.__position[1]+self.__road.direction[1])\n",
    "                self.__road.city.map[self.__position] = 2\n",
    "            else:\n",
    "                return \"conflict\"\n",
    "        return \"move\""
   ]
  },
  {
   "cell_type": "code",
   "execution_count": 261,
   "metadata": {},
   "outputs": [],
   "source": [
    "class city:\n",
    "    def __init__(self, l=100, w=100):\n",
    "        self.l = l\n",
    "        self.w = w\n",
    "        self.map = {(i,j):0 for i in range(self.l) for j in range(self.w)} \n",
    "    def showMap():\n",
    "        for aRoad in allRoads:\n",
    "            "
   ]
  },
  {
   "cell_type": "code",
   "execution_count": 262,
   "metadata": {},
   "outputs": [],
   "source": [
    "allRoads = []\n",
    "intervals = []\n",
    "Berkeley = city()\n",
    "ourFirstRoad = road(Berkeley)\n",
    "secondRoad = road(Berkeley, numOfCell=12, introRate=3, remvRate=5, direction = (1,0), startPos = (-5,0))\n",
    "thirdRoad = road(Berkeley, numOfCell=10, introRate=4, remvRate=2, direction = (1,1), startPos = (-3,0))\n",
    "allRoads.append(ourFirstRoad)\n",
    "allRoads.append(secondRoad)\n",
    "allRoads.append(thirdRoad)\n",
    "startTime = time.time()\n",
    "lastTime = startTime\n",
    "Stop = False\n",
    "while not Stop:\n",
    "    #ourFirstRoad.showCar()\n",
    "    currentTime = time.time()\n",
    "    if currentTime -  startTime > 1:\n",
    "        Stop = True\n",
    "    interval = (currentTime - lastTime)*TIME_CONST # zoom in the time to simulate the actual case.\n",
    "    intervals.append(interval)\n",
    "    \n",
    "    ourFirstRoad.introCar(interval)\n",
    "    ourFirstRoad.remvCar(interval)\n",
    "    secondRoad.introCar(interval)\n",
    "    secondRoad.remvCar(interval)\n",
    "    thirdRoad.introCar(interval)\n",
    "    thirdRoad.remvCar(interval)\n",
    "    for i in ourFirstRoad.allCars:\n",
    "        ret = i.moveForward(interval)\n",
    "        if ret ==\"conflict\":\n",
    "            ourFirstRoad.conflict += 1\n",
    "    for j in secondRoad.allCars:\n",
    "        ret = j.moveForward(interval)\n",
    "        if ret ==\"conflict\":\n",
    "            secondRoad.conflict += 1\n",
    "    for k in thirdRoad.allCars:\n",
    "        ret = k.moveForward(interval)\n",
    "        if ret ==\"conflict\":\n",
    "            thirdRoad.conflict += 1\n",
    "    lastTime = currentTime"
   ]
  },
  {
   "cell_type": "code",
   "execution_count": 263,
   "metadata": {},
   "outputs": [],
   "source": [
    "rx = []\n",
    "ry = []\n",
    "cx = []\n",
    "cy = []\n",
    "for i in Berkeley.map:\n",
    "    if Berkeley.map[i] != 0:\n",
    "        rx.append(i[0])\n",
    "        ry.append(i[1])\n",
    "    if Berkeley.map[i] == 2:\n",
    "        cx.append(i[0])\n",
    "        cy.append(i[1])"
   ]
  },
  {
   "cell_type": "code",
   "execution_count": 264,
   "metadata": {},
   "outputs": [
    {
     "name": "stdout",
     "output_type": "stream",
     "text": [
      "5\n"
     ]
    }
   ],
   "source": [
    "print(len(ourFirstRoad.allCars))"
   ]
  },
  {
   "cell_type": "code",
   "execution_count": 265,
   "metadata": {},
   "outputs": [
    {
     "data": {
      "image/png": "[encoded data removed]",
      "text/plain": [
       "<matplotlib.figure.Figure at 0x118be1a90>"
      ]
     },
     "metadata": {},
     "output_type": "display_data"
    }
   ],
   "source": [
    "plt.plot(rx, ry, \"o\")\n",
    "plt.plot(cx, cy, \"*\")\n",
    "plt.show()"
   ]
  },
  {
   "cell_type": "code",
   "execution_count": 31,
   "metadata": {},
   "outputs": [
    {
     "name": "stdout",
     "output_type": "stream",
     "text": [
      "50\n"
     ]
    }
   ],
   "source": [
    "print(ourFirstRoad.passCar)"
   ]
  },
  {
   "cell_type": "code",
   "execution_count": 32,
   "metadata": {},
   "outputs": [
    {
     "name": "stdout",
     "output_type": "stream",
     "text": [
      "32.83854526809499\n"
     ]
    }
   ],
   "source": [
    "print(np.average(intervals))"
   ]
  },
  {
   "cell_type": "code",
   "execution_count": 1,
   "metadata": {},
   "outputs": [
    {
     "data": {
      "text/plain": [
       "[[[0, 0], [0, 0], [0, 0]]]"
      ]
     },
     "execution_count": 1,
     "metadata": {},
     "output_type": "execute_result"
    }
   ],
   "source": [
    "[[[0]*2]*3]"
   ]
  },
  {
   "cell_type": "code",
   "execution_count": 2,
   "metadata": {},
   "outputs": [
    {
     "ename": "NameError",
     "evalue": "name 'plot' is not defined",
     "output_type": "error",
     "traceback": [
      "\u001b[0;31m---------------------------------------------------------------------------\u001b[0m",
      "\u001b[0;31mNameError\u001b[0m                                 Traceback (most recent call last)",
      "\u001b[0;32m<ipython-input-2-d41d89e01b0b>\u001b[0m in \u001b[0;36m<module>\u001b[0;34m()\u001b[0m\n\u001b[0;32m----> 1\u001b[0;31m \u001b[0mplot\u001b[0m\u001b[0;34m(\u001b[0m\u001b[0;34m[\u001b[0m\u001b[0;34m[\u001b[0m\u001b[0;34m[\u001b[0m\u001b[0;36m0\u001b[0m\u001b[0;34m]\u001b[0m\u001b[0;34m*\u001b[0m\u001b[0;36m2\u001b[0m\u001b[0;34m]\u001b[0m\u001b[0;34m*\u001b[0m\u001b[0;36m3\u001b[0m\u001b[0;34m]\u001b[0m\u001b[0;34m)\u001b[0m\u001b[0;34m\u001b[0m\u001b[0m\n\u001b[0m",
      "\u001b[0;31mNameError\u001b[0m: name 'plot' is not defined"
     ]
    }
   ],
   "source": [
    "plot([[[0]*2]*3])"
   ]
  },
  {
   "cell_type": "code",
   "execution_count": null,
   "metadata": {},
   "outputs": [],
   "source": []
  }
 ],
 "metadata": {
  "kernelspec": {
   "display_name": "Python 3",
   "language": "python",
   "name": "python3"
  },
  "language_info": {
   "codemirror_mode": {
    "name": "ipython",
    "version": 3
   },
   "file_extension": ".py",
   "mimetype": "text/x-python",
   "name": "python",
   "nbconvert_exporter": "python",
   "pygments_lexer": "ipython3",
   "version": "3.6.6"
  }
 },
 "nbformat": 4,
 "nbformat_minor": 2
}
