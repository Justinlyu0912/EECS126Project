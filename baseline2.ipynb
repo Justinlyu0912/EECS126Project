{
 "cells": [
  {
   "cell_type": "code",
   "execution_count": 5,
   "metadata": {},
   "outputs": [],
   "source": [
    "from __future__ import print_function\n",
    "import time\n",
    "import random\n",
    "import numpy as np\n",
    "import matplotlib.pyplot as plt\n",
    "from mpl_toolkits.mplot3d import Axes3D\n",
    "\n",
    "from IPython.display import display\n",
    "\n",
    "from ipywidgets import interact, interactive, fixed, interact_manual\n",
    "import ipywidgets as widgets\n",
    "\n",
    "CAR_RATE = 3 # velocity of the car\n",
    "TIME_CONST = 10000 #zoom in the time\n",
    "RESOLUTION = 0.1"
   ]
  },
  {
   "cell_type": "code",
   "execution_count": 15,
   "metadata": {},
   "outputs": [],
   "source": [
    "class Road:\n",
    "    def __init__(self, city, numOfCell=10, introRate=2, remvRate=2, direction = (0,1), startPos = (0,0),interval =0.001,totalTime = 1000,name=''):\n",
    "        #int numOfCell, int introRate, int remvRate, int index\n",
    "        self.__introRate = introRate\n",
    "        self.__remvRate = remvRate\n",
    "        self.allCars = [] #cars in this road\n",
    "        self.numOfCell = numOfCell\n",
    "        self.passCar = 0 # number of the passing cars\n",
    "        self.conflict = 0\n",
    "        self.direction = direction\n",
    "        self.startPos = startPos\n",
    "        self.endPos = (startPos[0]+self.direction[0]*(self.numOfCell-1), startPos[1]+self.direction[1]*(self.numOfCell-1))\n",
    "        #self.cell = {}  #cells in this road\n",
    "        self.city = city\n",
    "        self.time_sum_car = 0\n",
    "        self.density = 0\n",
    "        self.J = 0\n",
    "        self.interval = interval\n",
    "        self.totalTime = totalTime\n",
    "        self.name = name\n",
    "        for i in range(self.numOfCell):\n",
    "            self.city.map[(self.startPos[0]+self.direction[0]*i, self.startPos[1]+self.direction[1]*i)] = 1\n",
    "        \n",
    "    def introCar(self):\n",
    "        # introduce a new car to this road\n",
    "        if ((random.random() < self.__introRate*self.interval) &(self.city.map[self.startPos] == 1)):\n",
    "            self.city.map[self.startPos] = 2\n",
    "            newCar = Car(self, interval = self.interval)\n",
    "            self.allCars.insert(0, newCar)\n",
    "            \n",
    "    def remvCar(self):\n",
    "        # remove the car in the last cell of this road\n",
    "        if ((random.random() < self.__remvRate*self.interval)&(self.city.map[self.endPos] == 2)):\n",
    "            self.city.map[self.endPos] = 1\n",
    "            self.allCars.pop()\n",
    "            self.passCar += 1\n",
    "            \n",
    "    def showCar(self):\n",
    "        for i in range(self.numOfCell):\n",
    "            if self.city.map[(self.startPos[0]+self.direction[0]*i, self.startPos[1]+self.direction[1]*i)] == 1:\n",
    "                print(\" | \"+\" \",end=\"\")\n",
    "            else:\n",
    "                print(\" | \"+\"*\",end=\"\")\n",
    "        print(\" |\\n\")\n",
    "    def calculateRate(self):\n",
    "        self.density = self.time_sum_car/(self.totalTime/self.interval*self.numOfCell)\n",
    "        self.J = self.passCar / self.totalTime\n",
    "        \n",
    "\n",
    "        "
   ]
  },
  {
   "cell_type": "code",
   "execution_count": 16,
   "metadata": {},
   "outputs": [],
   "source": [
    "class Car:\n",
    "    def __init__(self, road, position=0, expClockRate=3, prob=0.5,interval =0.001):\n",
    "        #int position, int expClockRate, float prob, int index (which road)\n",
    "        self.__position = (road.startPos[0]+road.direction[0]*position, road.startPos[1]+road.direction[1]*position)\n",
    "        self.__expClockRate = expClockRate\n",
    "        self.__prob = prob\n",
    "        self.__road = road\n",
    "        self.interval = interval\n",
    "    def moveForward(self):\n",
    "        if (random.random() < self.__expClockRate*self.interval)&(random.random() < self.__prob):\n",
    "            # expo & not broken\n",
    "            if (self.__road.city.map[(self.__position[0]+self.__road.direction[0], self.__position[1]+self.__road.direction[1])] == 1): # next cell is empty\n",
    "                self.__road.city.map[self.__position] = 1\n",
    "                self.__position = (self.__position[0]+self.__road.direction[0], self.__position[1]+self.__road.direction[1])\n",
    "                self.__road.city.map[self.__position] = 2\n",
    "            else:\n",
    "                return \"conflict\"\n",
    "        return \"move\""
   ]
  },
  {
   "cell_type": "code",
   "execution_count": 17,
   "metadata": {},
   "outputs": [],
   "source": [
    "class City:\n",
    "    def __init__(self, l=100, w=100,totalTime = 1000,interval = 0.001,name='Berkeley'):\n",
    "        self.l = l\n",
    "        self.w = w\n",
    "        self.map = {(i,j):0 for i in range(self.l) for j in range(self.w)} \n",
    "        self.roads=[]\n",
    "        self.totalTime = totalTime\n",
    "        self.interval = interval\n",
    "        self.name ='Berkeley'\n",
    "    def showCity(self):\n",
    "        rx = []\n",
    "        ry = []\n",
    "        cx = []\n",
    "        cy = []\n",
    "        for i in Berkeley.map:\n",
    "            if Berkeley.map[i] != 0:\n",
    "                rx.append(i[0])\n",
    "                ry.append(i[1])\n",
    "            if Berkeley.map[i] == 2:\n",
    "                cx.append(i[0])\n",
    "                cy.append(i[1])\n",
    "        plt.plot(rx, ry, \"o\")\n",
    "        plt.plot(cx, cy, \"*\")\n",
    "        plt.show()\n",
    "    def createRoad(self,numOfCell=10, introRate=2, remvRate=2, direction = (0,1), startPos = (0,0),name = ''):\n",
    "        newRoad = Road(self, numOfCell=numOfCell, introRate=introRate, remvRate=remvRate, direction = direction, \\\n",
    "                       startPos = startPos,interval = self.interval,totalTime = self.totalTime, name = name)\n",
    "        self.roads.append(newRoad)\n",
    "    def introCar(self):\n",
    "        for road in self.roads:\n",
    "            road.introCar()\n",
    "            \n",
    "    def remvCar(self):\n",
    "        for road in self.roads:\n",
    "            road.remvCar()\n",
    "            \n",
    "    def moveCar(self):\n",
    "        for road in self.roads:\n",
    "            for car in road.allCars:\n",
    "                ret = car.moveForward()\n",
    "                if ret ==\"conflict\":\n",
    "                    road.conflict += 1\n",
    "    def time_sum_car(self):\n",
    "        for road in self.roads:\n",
    "            road.time_sum_car += len(road.allCars)\n",
    "    def calculateRate(self):\n",
    "        for road in self.roads:\n",
    "            road.calculateRate()\n",
    "    def freshMap(self):\n",
    "        del(self.roads[:])\n",
    "        self.roads=[]\n",
    "        self.map = {(i,j):0 for i in range(self.l) for j in range(self.w)} "
   ]
  },
  {
   "cell_type": "code",
   "execution_count": 18,
   "metadata": {},
   "outputs": [],
   "source": [
    "TOTAL_TIME = 1000\n",
    "interval = 0.001\n",
    "Berkeley = City(totalTime=TOTAL_TIME, interval= interval)\n",
    "Berkeley.createRoad(name='road1')\n",
    "Berkeley.createRoad(numOfCell=12, introRate=3, remvRate=5, direction = (1,0), startPos = (-5,0),name='road2')\n",
    "Berkeley.createRoad(numOfCell=10, introRate=4, remvRate=2, direction = (1,1), startPos = (-3,0),name='road3')"
   ]
  },
  {
   "cell_type": "code",
   "execution_count": 7,
   "metadata": {},
   "outputs": [],
   "source": [
    "# startTime = 0\n",
    "# lastTime = startTime\n",
    "# Stop = False\n",
    "# currentTime = startTime - interval\n",
    "# while not Stop:\n",
    "#     currentTime = currentTime+interval\n",
    "#     if currentTime > TOTAL_TIME:\n",
    "#         Stop = True\n",
    "#     Berkeley.introCar()\n",
    "#     Berkeley.remvCar()\n",
    "#     Berkeley.moveCar()\n",
    "#     Berkeley.time_sum_car()\n",
    "# Berkeley.calculateRate()"
   ]
  },
  {
   "cell_type": "code",
   "execution_count": 21,
   "metadata": {},
   "outputs": [
    {
     "data": {
      "text/plain": [
       "<Figure size 432x288 with 0 Axes>"
      ]
     },
     "metadata": {},
     "output_type": "display_data"
    }
   ],
   "source": [
    "fig = plt.figure()\n",
    "\n",
    "SF = City()\n",
    "x = np.arange(0, 3, 1)\n",
    "y = np.arange(0, 3, 1)\n",
    "z = []\n",
    "for ir in x:\n",
    "    zz = []\n",
    "    for rr in y:\n",
    "        SF.freshMap()\n",
    "        SF.createRoad(introRate=ir, remvRate=rr)\n",
    "        startTime = 0\n",
    "        Stop = False\n",
    "        currentTime = startTime - interval\n",
    "        while not Stop:\n",
    "            currentTime = currentTime+interval\n",
    "            if currentTime > TOTAL_TIME:\n",
    "                Stop = True\n",
    "            SF.introCar()\n",
    "            SF.remvCar()\n",
    "            SF.moveCar()\n",
    "            SF.time_sum_car()\n",
    "        SF.calculateRate()\n",
    "        zz.append(SF.roads[0].passCar)\n",
    "    z.append(zz)"
   ]
  },
  {
   "cell_type": "code",
   "execution_count": 24,
   "metadata": {},
   "outputs": [
    {
     "data": {
      "text/plain": [
       "<function matplotlib.pyplot.show>"
      ]
     },
     "execution_count": 24,
     "metadata": {},
     "output_type": "execute_result"
    },
    {
     "data": {
      "image/png": "[encoded data removed]",
      "text/plain": [
       "<Figure size 432x288 with 1 Axes>"
      ]
     },
     "metadata": {},
     "output_type": "display_data"
    }
   ],
   "source": [
    "array_z = np.array(z)\n",
    "array_x,array_y = np.meshgrid(x,y)\n",
    "surf = plt.contourf(array_x,array_y,array_z)\n",
    "plt.xlabel('introRate')\n",
    "plt.ylabel('remvRate')\n",
    "plt.title(\"PASS CAR\")\n",
    "plt.show"
   ]
  },
  {
   "cell_type": "code",
   "execution_count": null,
   "metadata": {},
   "outputs": [],
   "source": []
  },
  {
   "cell_type": "code",
   "execution_count": 42,
   "metadata": {
    "scrolled": true
   },
   "outputs": [
    {
     "name": "stdout",
     "output_type": "stream",
     "text": [
      "Please use the sliders below to adjust the parameters. They are: carRate, carMoveProb, numOfCell, introRate, remvRate\n"
     ]
    },
    {
     "data": {
      "application/vnd.jupyter.widget-view+json": {
       "model_id": "5e17819edeab4703b4ecc459122a5f14",
       "version_major": 2,
       "version_minor": 0
      },
      "text/plain": [
       "VBox(children=(FloatSlider(value=0.1, description='carRate: ', max=5.0, min=0.1), FloatSlider(value=0.0, descr…"
      ]
     },
     "metadata": {},
     "output_type": "display_data"
    },
    {
     "data": {
      "application/vnd.jupyter.widget-view+json": {
       "model_id": "f9a5e9ff38a14c74a03bfbe040d55e11",
       "version_major": 2,
       "version_minor": 0
      },
      "text/plain": [
       "Output()"
      ]
     },
     "metadata": {},
     "output_type": "display_data"
    },
    {
     "name": "stdout",
     "output_type": "stream",
     "text": [
      "0.1\n"
     ]
    }
   ],
   "source": [
    "def test():\n",
    "    carRate = widgets.FloatSlider(min=0.1, max=5.0, step=0.1, description='carRate: ')\n",
    "    carMoveProb = widgets.FloatSlider(min=0.0, max=1.0,step =0.001, description='moveProb:')\n",
    "    \n",
    "    numOfCell = widgets.IntSlider(min=10, max=100, step=1, description='numOfCell: ')\n",
    "    introRate = widgets.FloatSlider(min=0.1, max=5.0, step=0.1, description='introRate: ')\n",
    "    remvRate = widgets.FloatSlider(min=0.1, max=5.0, step=0.1, description='remvRate: ')\n",
    "    \n",
    "    ui = widgets.VBox([carRate, carMoveProb, numOfCell, introRate, remvRate])\n",
    "    \n",
    "    def f(carRate, carMoveProb, numOfCell, introRate, remvRate):\n",
    "        print('Now on our roads: \\n'+' The cars move at a speed of '+str(carRate),'\\n', 'The probability that each of the cars move is '+str(carMoveProb)+'\\n', 'At the same time, there are '+str(numOfCell)+' cars at most on our roads.\\n', 'The cars go into the roads at a rate of '+str(introRate)+'\\n', 'The cars leave the roads at a rate of '+str(remvRate)+'\\n')\n",
    "        return(carRate, carMoveProb, numOfCell, introRate, remvRate)\n",
    "    \n",
    "    out = widgets.interactive_output(f, {'remvRate': remvRate, 'introRate': introRate, 'numOfCell': numOfCell, 'carMoveProb':carMoveProb , 'carRate': carRate})\n",
    "    \n",
    "    print('Please use the sliders below to adjust the parameters. They are: carRate, carMoveProb, numOfCell, introRate, remvRate')\n",
    "    \n",
    "    display(ui, out)\n",
    "    \n",
    "    print(carRate.value)\n",
    "    \n",
    "test()"
   ]
  },
  {
   "cell_type": "code",
   "execution_count": null,
   "metadata": {},
   "outputs": [],
   "source": []
  },
  {
   "cell_type": "code",
   "execution_count": null,
   "metadata": {},
   "outputs": [],
   "source": []
  }
 ],
 "metadata": {
  "kernelspec": {
   "display_name": "Python 3",
   "language": "python",
   "name": "python3"
  },
  "language_info": {
   "codemirror_mode": {
    "name": "ipython",
    "version": 3
   },
   "file_extension": ".py",
   "mimetype": "text/x-python",
   "name": "python",
   "nbconvert_exporter": "python",
   "pygments_lexer": "ipython3",
   "version": "3.7.3"
  },
  "nbdime-conflicts": {
   "local_diff": [
    {
     "diff": [
      {
       "diff": [
        {
         "key": 0,
         "length": 1,
         "op": "removerange"
        }
       ],
       "key": "version",
       "op": "patch"
      }
     ],
     "key": "language_info",
     "op": "patch"
    }
   ],
   "remote_diff": [
    {
     "diff": [
      {
       "diff": [
        {
         "diff": [
          {
           "key": 4,
           "op": "addrange",
           "valuelist": "9"
          },
          {
           "key": 4,
           "length": 1,
           "op": "removerange"
          }
         ],
         "key": 0,
         "op": "patch"
        }
       ],
       "key": "version",
       "op": "patch"
      }
     ],
     "key": "language_info",
     "op": "patch"
    }
   ]
  }
 },
 "nbformat": 4,
 "nbformat_minor": 2
}
