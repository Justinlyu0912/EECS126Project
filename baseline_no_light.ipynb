{
 "cells": [
  {
   "cell_type": "code",
   "execution_count": 72,
   "metadata": {},
   "outputs": [],
   "source": [
    "import time\n",
    "import random\n",
    "import numpy as np\n",
    "import matplotlib.pyplot as plt\n",
    "from mpl_toolkits.mplot3d import Axes3D\n",
    "CAR_RATE = 3 # velocity of the car\n",
    "TIME_CONST = 10000 #zoom in the time\n",
    "RESOLUTION = 0.1"
   ]
  },
  {
   "cell_type": "code",
   "execution_count": 73,
   "metadata": {},
   "outputs": [],
   "source": [
    "class Road:\n",
    "    def __init__(self, city, numOfCell=10, introRate=2, remvRate=2, carRate = 2, direction = (0,1), startPos = (0,0),interval =0.001,totalTime = 1000,name=''):\n",
    "        #int numOfCell, int introRate, int remvRate, int index\n",
    "        self.__introRate = introRate\n",
    "        self.__remvRate = remvRate\n",
    "        self.carRate = carRate\n",
    "        self.allCars = [] #cars in this road\n",
    "        self.numOfCell = numOfCell\n",
    "        self.passCar = 0 # number of the passing cars\n",
    "        self.conflict = 0\n",
    "        self.direction = direction\n",
    "        self.startPos = startPos\n",
    "        self.endPos = (startPos[0]+self.direction[0]*(self.numOfCell-1), startPos[1]+self.direction[1]*(self.numOfCell-1))\n",
    "        #self.cell = {}  #cells in this road\n",
    "        self.city = city\n",
    "        self.time_sum_car = 0\n",
    "        self.density = 0\n",
    "        self.J = 0\n",
    "        self.interval = interval\n",
    "        self.totalTime = totalTime\n",
    "        self.name = name\n",
    "        for i in range(self.numOfCell):\n",
    "            self.city.map[(self.startPos[0]+self.direction[0]*i, self.startPos[1]+self.direction[1]*i)] = 1\n",
    "        \n",
    "    def introCar(self):\n",
    "        # introduce a new car to this road\n",
    "        if ((random.random() < self.__introRate*self.interval) &(self.city.map[self.startPos] == 1)):\n",
    "            self.city.map[self.startPos] = 2\n",
    "            newCar = Car(self, interval = self.interval,expClockRate= self.carRate)\n",
    "            self.allCars.insert(0, newCar)\n",
    "            \n",
    "    def remvCar(self):\n",
    "        # remove the car in the last cell of this road\n",
    "        if ((random.random() < self.__remvRate*self.interval)&(self.city.map[self.endPos] == 2)):\n",
    "            self.city.map[self.endPos] = 1\n",
    "            self.allCars.pop()\n",
    "            self.passCar += 1\n",
    "            \n",
    "    def showCar(self):\n",
    "        for i in range(self.numOfCell):\n",
    "            if self.city.map[(self.startPos[0]+self.direction[0]*i, self.startPos[1]+self.direction[1]*i)] == 1:\n",
    "                print(\" | \"+\" \",end=\"\")\n",
    "            else:\n",
    "                print(\" | \"+\"*\",end=\"\")\n",
    "        print(\" |\\n\")\n",
    "    def calculateRate(self):\n",
    "        self.density = self.time_sum_car/(self.totalTime/self.interval*self.numOfCell)\n",
    "        self.J = self.passCar / self.totalTime\n",
    "        \n",
    "\n",
    "        "
   ]
  },
  {
   "cell_type": "code",
   "execution_count": 74,
   "metadata": {},
   "outputs": [],
   "source": [
    "class Car:\n",
    "    def __init__(self, road, position=0, expClockRate=3, prob=0.5,interval =0.001):\n",
    "        #int position, int expClockRate, float prob, int index (which road)\n",
    "        self.__position = (road.startPos[0]+road.direction[0]*position, road.startPos[1]+road.direction[1]*position)\n",
    "        self.__expClockRate = expClockRate\n",
    "        self.__prob = prob\n",
    "        self.__road = road\n",
    "        self.interval = interval\n",
    "    def moveForward(self):\n",
    "        if (random.random() < self.__expClockRate*self.interval)&(random.random() < self.__prob):\n",
    "            # expo & not broken\n",
    "            if (self.__road.city.map[(self.__position[0]+self.__road.direction[0], self.__position[1]+self.__road.direction[1])] == 1): # next cell is empty\n",
    "                self.__road.city.map[self.__position] = 1\n",
    "                self.__position = (self.__position[0]+self.__road.direction[0], self.__position[1]+self.__road.direction[1])\n",
    "                self.__road.city.map[self.__position] = 2\n",
    "            else:\n",
    "                return \"conflict\"\n",
    "        return \"move\""
   ]
  },
  {
   "cell_type": "code",
   "execution_count": 119,
   "metadata": {},
   "outputs": [],
   "source": [
    "class City:\n",
    "    def __init__(self, l=100, w=100,totalTime = 1000,interval = 0.001,name='Berkeley'):\n",
    "        self.l = l\n",
    "        self.w = w\n",
    "        self.map = {(i,j):0 for i in range(self.l) for j in range(self.w)} \n",
    "        self.roads=[]\n",
    "        self.totalTime = totalTime\n",
    "        self.interval = interval\n",
    "        self.name =name\n",
    "        self.J = 0\n",
    "        self.density = 0\n",
    "        self.sum_car = 0\n",
    "        self.numOfCell=0\n",
    "        self.passCar = 0\n",
    "    def showCity(self):\n",
    "        rx = []\n",
    "        ry = []\n",
    "        cx = []\n",
    "        cy = []\n",
    "        for i in self.map:\n",
    "            if self.map[i] != 0:\n",
    "                rx.append(i[0])\n",
    "                ry.append(i[1])\n",
    "            if self.map[i] == 2:\n",
    "                cx.append(i[0])\n",
    "                cy.append(i[1])\n",
    "        plt.plot(rx, ry, \"o\")\n",
    "        plt.plot(cx, cy, \"*\")\n",
    "        plt.show()\n",
    "    def createRoad(self,numOfCell=10, introRate=2, remvRate=2,carRate = 2, direction = (0,1), startPos = (0,0),name = ''):\n",
    "        newRoad = Road(self, numOfCell=numOfCell, introRate=introRate, remvRate=remvRate, direction = direction, \\\n",
    "                       startPos = startPos,interval = self.interval,totalTime = self.totalTime, name = name)\n",
    "        self.roads.append(newRoad)\n",
    "        self.numOfCell += newRoad.numOfCell\n",
    "    def introCar(self):\n",
    "        for road in self.roads:\n",
    "            road.introCar()\n",
    "            \n",
    "    def remvCar(self):\n",
    "        self.passCar = 0\n",
    "        for road in self.roads:\n",
    "            road.remvCar()\n",
    "            self.passCar += road.passCar\n",
    "    def moveCar(self):\n",
    "        for road in self.roads:\n",
    "            for car in road.allCars:\n",
    "                ret = car.moveForward()\n",
    "                if ret ==\"conflict\":\n",
    "                    road.conflict += 1\n",
    "    def Time_sum_car(self):\n",
    "        for road in self.roads:\n",
    "            road.time_sum_car += len(road.allCars)\n",
    "            \n",
    "    def calculateRate(self):\n",
    "        self.sum_car = 0\n",
    "        for road in self.roads:\n",
    "            road.calculateRate()\n",
    "            self.sum_car += road.time_sum_car\n",
    "        self.density = self.sum_car/(self.totalTime/self.interval*self.numOfCell)\n",
    "        self.J = self.passCar / self.totalTime\n",
    "        \n",
    "    def freshMap(self):\n",
    "        self.J = 0\n",
    "        self.density = 0\n",
    "        self.sum_car = 0\n",
    "        self.numOfCell=0\n",
    "        self.passCar = 0\n",
    "        del(self.roads[:])\n",
    "        self.roads=[]\n",
    "        self.map = {(i,j):0 for i in range(self.l) for j in range(self.w)} "
   ]
  },
  {
   "cell_type": "code",
   "execution_count": 76,
   "metadata": {},
   "outputs": [],
   "source": [
    "# startTime = 0\n",
    "# lastTime = startTime\n",
    "# Stop = False\")\n",
    "# currentTime = startTime - interval\n",
    "# while not Stop:\n",
    "#     currentTime = currentTime+interval\n",
    "#     if currentTime > TOTAL_TIME:\n",
    "#         Stop = True\n",
    "#     Berkeley.introCar()\n",
    "#     Berkeley.remvCar()\n",
    "#     Berkeley.moveCar()\n",
    "#     Berkeley.time_sum_car()\n",
    "# Berkeley.calculateRate()"
   ]
  },
  {
   "cell_type": "code",
   "execution_count": 65,
   "metadata": {},
   "outputs": [
    {
     "data": {
      "text/plain": [
       "<Figure size 432x288 with 0 Axes>"
      ]
     },
     "metadata": {},
     "output_type": "display_data"
    }
   ],
   "source": [
    "fig = plt.figure()\n",
    "TOTAL_TIME = 1000\n",
    "interval = 0.001\n",
    "SF = City(totalTime=TOTAL_TIME, interval= interval, name = 'SF')\n",
    "x = np.arange(0, 2, 0.2)\n",
    "y = np.arange(0, 2, 0.2)\n",
    "j = []\n",
    "d = []\n",
    "for ir in x:\n",
    "    jj = []\n",
    "    dd = []\n",
    "    for rr in y:\n",
    "        SF.freshMap()\n",
    "        SF.createRoad(introRate=ir, remvRate=rr)\n",
    "        startTime = 0\n",
    "        Stop = False\n",
    "        currentTime = startTime - interval\n",
    "        while not Stop:\n",
    "            currentTime = currentTime+interval\n",
    "            if currentTime > TOTAL_TIME:\n",
    "                Stop = True\n",
    "            SF.introCar()\n",
    "            SF.remvCar()\n",
    "            SF.moveCar()\n",
    "            SF.Time_sum_car()\n",
    "        SF.calculateRate()\n",
    "        jj.append(SF.roads[0].J)\n",
    "        dd.append(SF.roads[0].density)\n",
    "    j.append(jj)\n",
    "    d.append(dd)"
   ]
  },
  {
   "cell_type": "code",
   "execution_count": 140,
   "metadata": {
    "scrolled": true
   },
   "outputs": [
    {
     "data": {
      "text/plain": [
       "<function matplotlib.pyplot.show>"
      ]
     },
     "execution_count": 140,
     "metadata": {},
     "output_type": "execute_result"
    },
    {
     "data": {
      "image/png": "[encoded data removed]",
      "text/plain": [
       "<Figure size 432x288 with 2 Axes>"
      ]
     },
     "metadata": {},
     "output_type": "display_data"
    }
   ],
   "source": [
    "array_z = np.array(j)\n",
    "array_x,array_y = np.meshgrid(x,y)\n",
    "surf = plt.contourf(array_x,array_y,array_z)\n",
    "plt.xlabel('remvRate')\n",
    "plt.ylabel('introRate')\n",
    "plt.title(\"J\")\n",
    "plt.colorbar()\n",
    "plt.savefig('1roadJ.png')\n",
    "plt.show\n",
    "\n"
   ]
  },
  {
   "cell_type": "code",
   "execution_count": 69,
   "metadata": {},
   "outputs": [
    {
     "data": {
      "text/plain": [
       "<function matplotlib.pyplot.show>"
      ]
     },
     "execution_count": 69,
     "metadata": {},
     "output_type": "execute_result"
    },
    {
     "data": {
      "image/png": "[encoded data removed]",
      "text/plain": [
       "<Figure size 432x288 with 2 Axes>"
      ]
     },
     "metadata": {},
     "output_type": "display_data"
    }
   ],
   "source": [
    "array_z = np.array(d)\n",
    "array_x,array_y = np.meshgrid(y,x)\n",
    "surf w= plt.contourf(array_x,array_y,array_z)\n",
    "plt.xlabel('remvRate')\n",
    "plt.ylabel('introRate')\n",
    "plt.title(\"D\")\n",
    "plt.colorbar()\n",
    "plt.savefig('1roadD.png')\n",
    "plt.show"
   ]
  },
  {
   "cell_type": "code",
   "execution_count": 131,
   "metadata": {},
   "outputs": [
    {
     "name": "stdout",
     "output_type": "stream",
     "text": [
      "____________________________________________________________________________________________________\n",
      "||||||||||||||||||||||||||||||||||||||||||||||||||||||||||||||||||||||||||||||||||||||||||||||||||||"
     ]
    },
    {
     "data": {
      "text/plain": [
       "<Figure size 432x288 with 0 Axes>"
      ]
     },
     "metadata": {},
     "output_type": "display_data"
    }
   ],
   "source": [
    "fig = plt.figure()\n",
    "TOTAL_TIME = 1000\n",
    "interval = 0.001\n",
    "SF = City(totalTime=TOTAL_TIME, interval= interval, name = 'SF')\n",
    "x = np.arange(0, 2, 0.2)\n",
    "y = np.arange(0, 2, 0.2)\n",
    "j = []\n",
    "d = []\n",
    "print(\"_\"*100)\n",
    "for ir in x:\n",
    "    jj = []\n",
    "    dd = []\n",
    "    for rr in y:\n",
    "        SF.freshMap()\n",
    "        SF.createRoad(introRate=ir, remvRate=rr, startPos = (0,-5))\n",
    "        SF.createRoad(introRate=ir, remvRate=rr, direction = (1,0), startPos = (-5,0))\n",
    "        startTime = 0\n",
    "        Stop = False\n",
    "        currentTime = startTime - interval\n",
    "        while not Stop:\n",
    "            currentTime = currentTime+interval\n",
    "            if currentTime > TOTAL_TIME:\n",
    "                Stop = True\n",
    "            SF.introCar()\n",
    "            SF.remvCar()\n",
    "            SF.moveCar()\n",
    "            SF.Time_sum_car()\n",
    "        SF.calculateRate()\n",
    "        jj.append(SF.J)\n",
    "        dd.append(SF.density)\n",
    "        print (\"|\",end=\"\")\n",
    "    j.append(jj)\n",
    "    d.append(dd)"
   ]
  },
  {
   "cell_type": "code",
   "execution_count": 132,
   "metadata": {},
   "outputs": [
    {
     "data": {
      "text/plain": [
       "<function matplotlib.pyplot.show>"
      ]
     },
     "execution_count": 132,
     "metadata": {},
     "output_type": "execute_result"
    },
    {
     "data": {
      "image/png": "[encoded data removed]",
      "text/plain": [
       "<Figure size 432x288 with 2 Axes>"
      ]
     },
     "metadata": {},
     "output_type": "display_data"
    }
   ],
   "source": [
    "array_z = np.array(j)\n",
    "array_x,array_y = np.meshgrid(x,y)\n",
    "surf = plt.contourf(array_x,array_y,array_z)\n",
    "plt.xlabel('remvRate')\n",
    "plt.ylabel('introRate')\n",
    "plt.title(\"J\")\n",
    "plt.colorbar()\n",
    "plt.savefig('2roadJ.png')\n",
    "plt.show\n"
   ]
  },
  {
   "cell_type": "code",
   "execution_count": 134,
   "metadata": {},
   "outputs": [
    {
     "data": {
      "text/plain": [
       "<function matplotlib.pyplot.show>"
      ]
     },
     "execution_count": 134,
     "metadata": {},
     "output_type": "execute_result"
    },
    {
     "data": {
      "image/png": "[encoded data removed]",
      "text/plain": [
       "<Figure size 432x288 with 2 Axes>"
      ]
     },
     "metadata": {},
     "output_type": "display_data"
    }
   ],
   "source": [
    "array_z = np.array(d)\n",
    "array_x,array_y = np.meshgrid(y,x)\n",
    "surf = plt.contourf(array_x,array_y,array_z)\n",
    "plt.xlabel('remvRate')\n",
    "plt.ylabel('introRate')\n",
    "plt.title(\"D\")\n",
    "plt.colorbar()\n",
    "plt.savefig('2roadD.png')\n",
    "plt.show"
   ]
  },
  {
   "cell_type": "code",
   "execution_count": 137,
   "metadata": {},
   "outputs": [
    {
     "name": "stdout",
     "output_type": "stream",
     "text": [
      "9994287\n"
     ]
    }
   ],
   "source": [
    "print(SF.sum_car)"
   ]
  },
  {
   "cell_type": "code",
   "execution_count": 135,
   "metadata": {},
   "outputs": [
    {
     "name": "stdout",
     "output_type": "stream",
     "text": [
      "4978486\n"
     ]
    }
   ],
   "source": [
    "print(SF.roads[0].time_sum_car)"
   ]
  },
  {
   "cell_type": "code",
   "execution_count": 136,
   "metadata": {},
   "outputs": [
    {
     "name": "stdout",
     "output_type": "stream",
     "text": [
      "5015801\n"
     ]
    }
   ],
   "source": [
    "print(SF.roads[1].time_sum_car)"
   ]
  },
  {
   "cell_type": "code",
   "execution_count": 138,
   "metadata": {},
   "outputs": [
    {
     "name": "stdout",
     "output_type": "stream",
     "text": [
      "10\n"
     ]
    }
   ],
   "source": [
    "print(SF.roads[0].numOfCell)"
   ]
  },
  {
   "cell_type": "code",
   "execution_count": 139,
   "metadata": {},
   "outputs": [
    {
     "name": "stdout",
     "output_type": "stream",
     "text": [
      "2000\n"
     ]
    }
   ],
   "source": [
    "print(SF.numOfCell)"
   ]
  },
  {
   "cell_type": "code",
   "execution_count": null,
   "metadata": {},
   "outputs": [],
   "source": []
  }
 ],
 "metadata": {
  "kernelspec": {
   "display_name": "Python 3",
   "language": "python",
   "name": "python3"
  },
  "language_info": {
   "codemirror_mode": {
    "name": "ipython",
    "version": 3
   },
   "file_extension": ".py",
   "mimetype": "text/x-python",
   "name": "python",
   "nbconvert_exporter": "python",
   "pygments_lexer": "ipython3",
   "version": "3.6.9"
  }
 },
 "nbformat": 4,
 "nbformat_minor": 2
}
